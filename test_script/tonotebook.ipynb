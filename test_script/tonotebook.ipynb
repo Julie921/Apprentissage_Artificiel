{
 "cells": [
  {
   "cell_type": "code",
   "execution_count": null,
   "id": "2d8f719c",
   "metadata": {},
   "outputs": [],
   "source": [
    "from lxml import etree\n",
    "from sklearn.feature_extraction.text import CountVectorizer\n",
    "from sklearn.svm import SVC\n",
    "import numpy as np\n",
    "from sklearn.model_selection import GridSearchCV\n",
    "from sklearn.model_selection import cross_validate, cross_val_score\n",
    "from sklearn.metrics import classification_report\n",
    "import sys\n",
    "from collections import namedtuple"
   ]
  },
  {
   "cell_type": "code",
   "execution_count": null,
   "id": "1852bee6",
   "metadata": {
    "lines_to_next_cell": 1
   },
   "outputs": [],
   "source": [
    "confParti=namedtuple(\"confParti\",\"parti,confiance\")"
   ]
  },
  {
   "cell_type": "code",
   "execution_count": null,
   "id": "c118cc6d",
   "metadata": {
    "lines_to_next_cell": 1
   },
   "outputs": [],
   "source": [
    "def get_root_from_file(file):\n",
    "    tree = etree.parse(file)\n",
    "    root = tree.getroot()\n",
    "    return tree, root"
   ]
  },
  {
   "cell_type": "code",
   "execution_count": null,
   "id": "aae8bc1b",
   "metadata": {
    "lines_to_next_cell": 1
   },
   "outputs": [],
   "source": [
    "def get_X_Y_from_root(root):\n",
    "    X = []\n",
    "    y = []\n",
    "\n",
    "    for child in root:\n",
    "        if child.tag==\"doc\":\n",
    "            for c in child:\n",
    "                if c.tag==\"EVALUATION\":\n",
    "                    for c1 in c:\n",
    "                        for parti in c1:\n",
    "                            y.append(parti.get(\"valeur\"))\n",
    "                elif c.tag==\"texte\":\n",
    "                    X.append(\" \".join([p.text for p in c if p.text]))\n",
    "    \n",
    "    return X,y"
   ]
  },
  {
   "cell_type": "code",
   "execution_count": null,
   "id": "297dc7dc",
   "metadata": {
    "lines_to_next_cell": 1
   },
   "outputs": [],
   "source": [
    "def rewrite_from_pred(tree,confPartiList,output):\n",
    "    i=0\n",
    "    root=tree.getroot()\n",
    "    for child in root:\n",
    "        if child.tag==\"doc\":\n",
    "            for c in child:\n",
    "                if c.tag==\"EVALUATION\":\n",
    "                    for eval_parti in c:\n",
    "                        eval_parti.clear()\n",
    "                        eval_parti.set(\"nombre\",\"5\")\n",
    "                        for confParti in confPartiList[i]:\n",
    "                            etree.SubElement(eval_parti,\"PARTI\")\n",
    "                            for parti in eval_parti:\n",
    "                                parti.set(\"valeur\",confParti.parti)\n",
    "                                parti.set(\"confiance\",confParti.conf) \n",
    "    tree.write(output)\n",
    "    return root"
   ]
  },
  {
   "cell_type": "code",
   "execution_count": null,
   "id": "6614f3d3",
   "metadata": {},
   "outputs": [],
   "source": [
    "def from_y_pred_to_confPartiList(classes,y_pred):\n",
    "    confPartiList=[]\n",
    "    for pred in y_pred:\n",
    "        tmp=[]\n",
    "        for conf,parti in zip(pred,classes):\n",
    "            tmp.append(confParti(parti,conf))\n",
    "        confPartiList.append(tmp)\n",
    "    return confPartiList"
   ]
  },
  {
   "cell_type": "code",
   "execution_count": null,
   "id": "bf4928d2",
   "metadata": {},
   "outputs": [],
   "source": [
    "if __name__==\"__main__\":\n",
    "    file_train=sys.argv[1]\n",
    "    file_test=sys.argv[2]\n",
    "    tree_train, root_train = get_root_from_file(file_train)\n",
    "    X_train, y_train = get_X_Y_from_root(root_train)\n",
    "    tree_test, root_test = get_root_from_file(file_test)\n",
    "    X_test, y_test = get_X_Y_from_root(root_test)\n",
    "\n",
    "    vectorizer = CountVectorizer(stop_words=\"english\")\n",
    "\n",
    "    X_train = vectorizer.fit_transform(X_train)\n",
    "    y_train=np.array(y_train)\n",
    "\n",
    "    clf=SVC(probability=True)\n",
    "\n",
    "    clf.fit(X_train[:500],y_train[:500])\n",
    "\n",
    "    y_pred=clf.predict_proba(X_test)\n",
    "\n",
    "    classes=clf.classes_\n",
    "\n",
    "    confPartiList=from_y_pred_to_confPartiList(classes,y_pred)\n",
    "\n",
    "    rewrite_from_pred(tree_test,confPartiList,\"truc_test.xml\")"
   ]
  }
 ],
 "metadata": {
  "jupytext": {
   "cell_metadata_filter": "-all",
   "main_language": "python",
   "notebook_metadata_filter": "-all"
  }
 },
 "nbformat": 4,
 "nbformat_minor": 5
}
