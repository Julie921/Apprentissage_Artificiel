{
 "cells": [
  {
   "cell_type": "markdown",
   "id": "57a9bd36",
   "metadata": {},
   "source": [
    "## Packages"
   ]
  },
  {
   "cell_type": "code",
   "execution_count": 3,
   "id": "0e1d3f45",
   "metadata": {},
   "outputs": [],
   "source": [
    "from typing import List\n",
    "from lxml import etree\n",
    "from preTraitements.xml import get_X_Y_from_root\n",
    "from preTraitements.xml import get_tree_root_from_file"
   ]
  },
  {
   "attachments": {},
   "cell_type": "markdown",
   "id": "dc011c55",
   "metadata": {},
   "source": [
    "### Récupération des corpus"
   ]
  },
  {
   "cell_type": "code",
   "execution_count": 4,
   "id": "77c3bb6f",
   "metadata": {},
   "outputs": [],
   "source": [
    "tree_train, root_train = get_tree_root_from_file(\"./corpus/train_deft09_parlement_appr.xml/deft09_parlement_appr_fr.xml\")\n",
    "X_train, y_train = get_X_Y_from_root(root_train)\n",
    "\n",
    "tree_test, root_test = get_tree_root_from_file(\"./corpus/deft09_parlement_test.xml/deft09_parlement_test_fr.xml\")\n",
    "X_test, y_test = get_X_Y_from_root(root_test)"
   ]
  },
  {
   "cell_type": "markdown",
   "id": "90b9c1dc",
   "metadata": {},
   "source": [
    "## Charger les données"
   ]
  },
  {
   "cell_type": "code",
   "execution_count": 5,
   "id": "01ec7c70",
   "metadata": {},
   "outputs": [],
   "source": [
    "from sklearn.datasets import fetch_20newsgroups\n",
    "\n",
    "categories = [\n",
    "    \"sci.crypt\",\n",
    "    \"sci.electronics\",\n",
    "    \"sci.med\",\n",
    "    \"sci.space\",\n",
    "]\n",
    "\n",
    "data_train = fetch_20newsgroups(\n",
    "    subset=\"train\",\n",
    "    categories=categories,\n",
    "    shuffle=True,\n",
    ")\n",
    "\n",
    "data_test = fetch_20newsgroups(\n",
    "    subset=\"test\",\n",
    "    categories=categories,\n",
    "    shuffle=True,\n",
    ")"
   ]
  },
  {
   "cell_type": "markdown",
   "id": "dba41585",
   "metadata": {},
   "source": [
    "## Extraction des features \n",
    "### Nombre motset nombre phrases"
   ]
  },
  {
   "cell_type": "code",
   "execution_count": 6,
   "id": "75c8472a",
   "metadata": {},
   "outputs": [],
   "source": [
    "posts = data_train.data\n",
    "count_word_sent = [{'length': len(text),\n",
    "                 'num_sentences': text.count('.')}\n",
    "                for text in posts]"
   ]
  },
  {
   "cell_type": "markdown",
   "id": "96f672d8",
   "metadata": {},
   "source": [
    "### Vectoriser les dictionnaires\n",
    "https://scikit-learn.org/stable/modules/generated/sklearn.feature_extraction.DictVectorizer.html#sklearn.feature_extraction.DictVectorizer"
   ]
  },
  {
   "cell_type": "code",
   "execution_count": 7,
   "id": "a4630f14",
   "metadata": {},
   "outputs": [
    {
     "data": {
      "text/plain": [
       "array(['city=Dubai', 'city=London', 'city=San Francisco', 'temperature'],\n",
       "      dtype=object)"
      ]
     },
     "execution_count": 7,
     "metadata": {},
     "output_type": "execute_result"
    }
   ],
   "source": [
    "measurements = [\n",
    "    {'city': 'Dubai', 'temperature': 33.},\n",
    "    {'city': 'London', 'temperature': 12.},\n",
    "    {'city': 'San Francisco', 'temperature': 18.},\n",
    "]\n",
    "\n",
    "from sklearn.feature_extraction import DictVectorizer\n",
    "vec = DictVectorizer()\n",
    "\n",
    "vec.fit_transform(measurements).toarray()\n",
    "\n",
    "\n",
    "\n",
    "\n",
    "vec.get_feature_names_out()"
   ]
  },
  {
   "cell_type": "code",
   "execution_count": 8,
   "id": "f68499fb",
   "metadata": {},
   "outputs": [],
   "source": [
    "from sklearn.feature_extraction import DictVectorizer\n",
    "v = DictVectorizer(sparse=False)\n",
    "array_word_sent = v.fit_transform(count_word_sent)"
   ]
  },
  {
   "cell_type": "markdown",
   "id": "524238ad",
   "metadata": {},
   "source": [
    "### Vectorizer"
   ]
  },
  {
   "cell_type": "code",
   "execution_count": 9,
   "id": "e04c4c45",
   "metadata": {},
   "outputs": [
    {
     "data": {
      "text/plain": [
       "array(['00', '000', '0000', ..., 'ête', 'íålittin', 'ýé'], dtype=object)"
      ]
     },
     "execution_count": 9,
     "metadata": {},
     "output_type": "execute_result"
    }
   ],
   "source": [
    "from sklearn.feature_extraction.text import CountVectorizer\n",
    "vectorizer=CountVectorizer()\n",
    "data_vec=vectorizer.fit_transform(data_train.data)\n",
    "vectorizer.get_feature_names_out()\n",
    "#data_vec.toarray()"
   ]
  },
  {
   "cell_type": "markdown",
   "id": "43145f7e",
   "metadata": {},
   "source": [
    "### TF-IDF"
   ]
  },
  {
   "cell_type": "code",
   "execution_count": 10,
   "id": "0102dbe0",
   "metadata": {},
   "outputs": [],
   "source": [
    "from sklearn.feature_extraction.text import TfidfTransformer"
   ]
  },
  {
   "cell_type": "markdown",
   "id": "9b33f0ae",
   "metadata": {},
   "source": [
    "### Features Union\n"
   ]
  },
  {
   "cell_type": "code",
   "execution_count": 11,
   "id": "708606cd",
   "metadata": {},
   "outputs": [],
   "source": [
    "from sklearn.base import BaseEstimator\n",
    "from sklearn.base import TransformerMixin\n",
    "class TextStats(BaseEstimator, TransformerMixin):\n",
    "    \"\"\"Extract features from each document for DictVectorizer\"\"\"\n",
    "    def __init__(self, value=None):\n",
    "        TransformerMixin.__init__(self)\n",
    "        self.value = value\n",
    "        \n",
    "    def fit(self, x, y=None):\n",
    "        return self\n",
    "\n",
    "    def transform(self, posts):\n",
    "        return [{'length': len(text),\n",
    "                 'num_sentences': text.count('.')}\n",
    "                for text in posts]\n"
   ]
  },
  {
   "cell_type": "code",
   "execution_count": 12,
   "id": "e2b83d48",
   "metadata": {},
   "outputs": [
    {
     "data": {
      "text/html": [
       "<style>#sk-container-id-1 {color: black;background-color: white;}#sk-container-id-1 pre{padding: 0;}#sk-container-id-1 div.sk-toggleable {background-color: white;}#sk-container-id-1 label.sk-toggleable__label {cursor: pointer;display: block;width: 100%;margin-bottom: 0;padding: 0.3em;box-sizing: border-box;text-align: center;}#sk-container-id-1 label.sk-toggleable__label-arrow:before {content: \"▸\";float: left;margin-right: 0.25em;color: #696969;}#sk-container-id-1 label.sk-toggleable__label-arrow:hover:before {color: black;}#sk-container-id-1 div.sk-estimator:hover label.sk-toggleable__label-arrow:before {color: black;}#sk-container-id-1 div.sk-toggleable__content {max-height: 0;max-width: 0;overflow: hidden;text-align: left;background-color: #f0f8ff;}#sk-container-id-1 div.sk-toggleable__content pre {margin: 0.2em;color: black;border-radius: 0.25em;background-color: #f0f8ff;}#sk-container-id-1 input.sk-toggleable__control:checked~div.sk-toggleable__content {max-height: 200px;max-width: 100%;overflow: auto;}#sk-container-id-1 input.sk-toggleable__control:checked~label.sk-toggleable__label-arrow:before {content: \"▾\";}#sk-container-id-1 div.sk-estimator input.sk-toggleable__control:checked~label.sk-toggleable__label {background-color: #d4ebff;}#sk-container-id-1 div.sk-label input.sk-toggleable__control:checked~label.sk-toggleable__label {background-color: #d4ebff;}#sk-container-id-1 input.sk-hidden--visually {border: 0;clip: rect(1px 1px 1px 1px);clip: rect(1px, 1px, 1px, 1px);height: 1px;margin: -1px;overflow: hidden;padding: 0;position: absolute;width: 1px;}#sk-container-id-1 div.sk-estimator {font-family: monospace;background-color: #f0f8ff;border: 1px dotted black;border-radius: 0.25em;box-sizing: border-box;margin-bottom: 0.5em;}#sk-container-id-1 div.sk-estimator:hover {background-color: #d4ebff;}#sk-container-id-1 div.sk-parallel-item::after {content: \"\";width: 100%;border-bottom: 1px solid gray;flex-grow: 1;}#sk-container-id-1 div.sk-label:hover label.sk-toggleable__label {background-color: #d4ebff;}#sk-container-id-1 div.sk-serial::before {content: \"\";position: absolute;border-left: 1px solid gray;box-sizing: border-box;top: 0;bottom: 0;left: 50%;z-index: 0;}#sk-container-id-1 div.sk-serial {display: flex;flex-direction: column;align-items: center;background-color: white;padding-right: 0.2em;padding-left: 0.2em;position: relative;}#sk-container-id-1 div.sk-item {position: relative;z-index: 1;}#sk-container-id-1 div.sk-parallel {display: flex;align-items: stretch;justify-content: center;background-color: white;position: relative;}#sk-container-id-1 div.sk-item::before, #sk-container-id-1 div.sk-parallel-item::before {content: \"\";position: absolute;border-left: 1px solid gray;box-sizing: border-box;top: 0;bottom: 0;left: 50%;z-index: -1;}#sk-container-id-1 div.sk-parallel-item {display: flex;flex-direction: column;z-index: 1;position: relative;background-color: white;}#sk-container-id-1 div.sk-parallel-item:first-child::after {align-self: flex-end;width: 50%;}#sk-container-id-1 div.sk-parallel-item:last-child::after {align-self: flex-start;width: 50%;}#sk-container-id-1 div.sk-parallel-item:only-child::after {width: 0;}#sk-container-id-1 div.sk-dashed-wrapped {border: 1px dashed gray;margin: 0 0.4em 0.5em 0.4em;box-sizing: border-box;padding-bottom: 0.4em;background-color: white;}#sk-container-id-1 div.sk-label label {font-family: monospace;font-weight: bold;display: inline-block;line-height: 1.2em;}#sk-container-id-1 div.sk-label-container {text-align: center;}#sk-container-id-1 div.sk-container {/* jupyter's `normalize.less` sets `[hidden] { display: none; }` but bootstrap.min.css set `[hidden] { display: none !important; }` so we also need the `!important` here to be able to override the default hidden behavior on the sphinx rendered scikit-learn.org. See: https://github.com/scikit-learn/scikit-learn/issues/21755 */display: inline-block !important;position: relative;}#sk-container-id-1 div.sk-text-repr-fallback {display: none;}</style><div id=\"sk-container-id-1\" class=\"sk-top-container\"><div class=\"sk-text-repr-fallback\"><pre>FeatureUnion(transformer_list=[(&#x27;nb_word_sent&#x27;,\n",
       "                                TextStats(value=[&#x27;From: al@escom.com (Al &#x27;\n",
       "                                                 &#x27;Donaldson)\\n&#x27;\n",
       "                                                 &#x27;Subject: Re: Once tapped, &#x27;\n",
       "                                                 &#x27;your code is no good any &#x27;\n",
       "                                                 &#x27;more.\\n&#x27;\n",
       "                                                 &#x27;Reply-To: al@escom.COM (Al &#x27;\n",
       "                                                 &#x27;Donaldson)\\n&#x27;\n",
       "                                                 &#x27;Organization: ESCOM Corp., &#x27;\n",
       "                                                 &#x27;Oakton VA (USA)\\n&#x27;\n",
       "                                                 &#x27;Distribution: na\\n&#x27;\n",
       "                                                 &#x27;Lines: 16\\n&#x27;\n",
       "                                                 &#x27;\\n&#x27;\n",
       "                                                 &#x27;amolitor@nmsu.edu (Andrew &#x27;\n",
       "                                                 &#x27;Molitor) writes:\\n&#x27;\n",
       "                                                 &#x27;&gt;Yes, those evil guys in the &#x27;\n",
       "                                                 &#x27;FBI can p...\n",
       "                                                 &#x27;\\n&#x27;\n",
       "                                                 &#x27;\\n&#x27;\n",
       "                                                 &#x27;\\n&#x27;\n",
       "                                                 &#x27;\\n&#x27;\n",
       "                                                 &#x27;\\n&#x27;\n",
       "                                                 &#x27;-- \\n&#x27;\n",
       "                                                 &#x27;----------------------------------------------------------------------------\\n&#x27;\n",
       "                                                 &#x27;Gordon Banks  N3JXP      | &#x27;\n",
       "                                                 &#x27;&quot;Skepticism is the chastity &#x27;\n",
       "                                                 &#x27;of the intellect, and\\n&#x27;\n",
       "                                                 &#x27;geb@cadre.dsl.pitt.edu   |  &#x27;\n",
       "                                                 &#x27;it is shameful to surrender &#x27;\n",
       "                                                 &#x27;it too soon.&quot; \\n&#x27;\n",
       "                                                 &#x27;----------------------------------------------------------------------------\\n&#x27;, ...])),\n",
       "                               (&#x27;vec&#x27;, CountVectorizer())])</pre><b>In a Jupyter environment, please rerun this cell to show the HTML representation or trust the notebook. <br />On GitHub, the HTML representation is unable to render, please try loading this page with nbviewer.org.</b></div><div class=\"sk-container\" hidden><div class=\"sk-item sk-dashed-wrapped\"><div class=\"sk-label-container\"><div class=\"sk-label sk-toggleable\"><input class=\"sk-toggleable__control sk-hidden--visually\" id=\"sk-estimator-id-1\" type=\"checkbox\" ><label for=\"sk-estimator-id-1\" class=\"sk-toggleable__label sk-toggleable__label-arrow\">FeatureUnion</label><div class=\"sk-toggleable__content\"><pre>FeatureUnion(transformer_list=[(&#x27;nb_word_sent&#x27;,\n",
       "                                TextStats(value=[&#x27;From: al@escom.com (Al &#x27;\n",
       "                                                 &#x27;Donaldson)\\n&#x27;\n",
       "                                                 &#x27;Subject: Re: Once tapped, &#x27;\n",
       "                                                 &#x27;your code is no good any &#x27;\n",
       "                                                 &#x27;more.\\n&#x27;\n",
       "                                                 &#x27;Reply-To: al@escom.COM (Al &#x27;\n",
       "                                                 &#x27;Donaldson)\\n&#x27;\n",
       "                                                 &#x27;Organization: ESCOM Corp., &#x27;\n",
       "                                                 &#x27;Oakton VA (USA)\\n&#x27;\n",
       "                                                 &#x27;Distribution: na\\n&#x27;\n",
       "                                                 &#x27;Lines: 16\\n&#x27;\n",
       "                                                 &#x27;\\n&#x27;\n",
       "                                                 &#x27;amolitor@nmsu.edu (Andrew &#x27;\n",
       "                                                 &#x27;Molitor) writes:\\n&#x27;\n",
       "                                                 &#x27;&gt;Yes, those evil guys in the &#x27;\n",
       "                                                 &#x27;FBI can p...\n",
       "                                                 &#x27;\\n&#x27;\n",
       "                                                 &#x27;\\n&#x27;\n",
       "                                                 &#x27;\\n&#x27;\n",
       "                                                 &#x27;\\n&#x27;\n",
       "                                                 &#x27;\\n&#x27;\n",
       "                                                 &#x27;-- \\n&#x27;\n",
       "                                                 &#x27;----------------------------------------------------------------------------\\n&#x27;\n",
       "                                                 &#x27;Gordon Banks  N3JXP      | &#x27;\n",
       "                                                 &#x27;&quot;Skepticism is the chastity &#x27;\n",
       "                                                 &#x27;of the intellect, and\\n&#x27;\n",
       "                                                 &#x27;geb@cadre.dsl.pitt.edu   |  &#x27;\n",
       "                                                 &#x27;it is shameful to surrender &#x27;\n",
       "                                                 &#x27;it too soon.&quot; \\n&#x27;\n",
       "                                                 &#x27;----------------------------------------------------------------------------\\n&#x27;, ...])),\n",
       "                               (&#x27;vec&#x27;, CountVectorizer())])</pre></div></div></div><div class=\"sk-parallel\"><div class=\"sk-parallel-item\"><div class=\"sk-item\"><div class=\"sk-label-container\"><div class=\"sk-label sk-toggleable\"><label>nb_word_sent</label></div></div><div class=\"sk-serial\"><div class=\"sk-item\"><div class=\"sk-estimator sk-toggleable\"><input class=\"sk-toggleable__control sk-hidden--visually\" id=\"sk-estimator-id-2\" type=\"checkbox\" ><label for=\"sk-estimator-id-2\" class=\"sk-toggleable__label sk-toggleable__label-arrow\">TextStats</label><div class=\"sk-toggleable__content\"><pre>TextStats(value=[&#x27;From: al@escom.com (Al Donaldson)\\n&#x27;\n",
       "                 &#x27;Subject: Re: Once tapped, your code is no good any more.\\n&#x27;\n",
       "                 &#x27;Reply-To: al@escom.COM (Al Donaldson)\\n&#x27;\n",
       "                 &#x27;Organization: ESCOM Corp., Oakton VA (USA)\\n&#x27;\n",
       "                 &#x27;Distribution: na\\n&#x27;\n",
       "                 &#x27;Lines: 16\\n&#x27;\n",
       "                 &#x27;\\n&#x27;\n",
       "                 &#x27;amolitor@nmsu.edu (Andrew Molitor) writes:\\n&#x27;\n",
       "                 &#x27;&gt;Yes, those evil guys in the FBI can probably, with some\\n&#x27;\n",
       "                 &#x27;&gt;effort, abuse the system. I got news for you, if t...\n",
       "                 &#x27;base,\\n&#x27;\n",
       "                 &#x27;as usual.\\n&#x27;\n",
       "                 &#x27;\\n&#x27;\n",
       "                 &#x27;\\n&#x27;\n",
       "                 &#x27;\\n&#x27;\n",
       "                 &#x27;\\n&#x27;\n",
       "                 &#x27;\\n&#x27;\n",
       "                 &#x27;\\n&#x27;\n",
       "                 &#x27;\\n&#x27;\n",
       "                 &#x27;\\n&#x27;\n",
       "                 &#x27;-- \\n&#x27;\n",
       "                 &#x27;----------------------------------------------------------------------------\\n&#x27;\n",
       "                 &#x27;Gordon Banks  N3JXP      | &quot;Skepticism is the chastity of &#x27;\n",
       "                 &#x27;the intellect, and\\n&#x27;\n",
       "                 &#x27;geb@cadre.dsl.pitt.edu   |  it is shameful to surrender it &#x27;\n",
       "                 &#x27;too soon.&quot; \\n&#x27;\n",
       "                 &#x27;----------------------------------------------------------------------------\\n&#x27;, ...])</pre></div></div></div></div></div></div><div class=\"sk-parallel-item\"><div class=\"sk-item\"><div class=\"sk-label-container\"><div class=\"sk-label sk-toggleable\"><label>vec</label></div></div><div class=\"sk-serial\"><div class=\"sk-item\"><div class=\"sk-estimator sk-toggleable\"><input class=\"sk-toggleable__control sk-hidden--visually\" id=\"sk-estimator-id-3\" type=\"checkbox\" ><label for=\"sk-estimator-id-3\" class=\"sk-toggleable__label sk-toggleable__label-arrow\">CountVectorizer</label><div class=\"sk-toggleable__content\"><pre>CountVectorizer()</pre></div></div></div></div></div></div></div></div></div></div>"
      ],
      "text/plain": [
       "FeatureUnion(transformer_list=[('nb_word_sent',\n",
       "                                TextStats(value=['From: al@escom.com (Al '\n",
       "                                                 'Donaldson)\\n'\n",
       "                                                 'Subject: Re: Once tapped, '\n",
       "                                                 'your code is no good any '\n",
       "                                                 'more.\\n'\n",
       "                                                 'Reply-To: al@escom.COM (Al '\n",
       "                                                 'Donaldson)\\n'\n",
       "                                                 'Organization: ESCOM Corp., '\n",
       "                                                 'Oakton VA (USA)\\n'\n",
       "                                                 'Distribution: na\\n'\n",
       "                                                 'Lines: 16\\n'\n",
       "                                                 '\\n'\n",
       "                                                 'amolitor@nmsu.edu (Andrew '\n",
       "                                                 'Molitor) writes:\\n'\n",
       "                                                 '>Yes, those evil guys in the '\n",
       "                                                 'FBI can p...\n",
       "                                                 '\\n'\n",
       "                                                 '\\n'\n",
       "                                                 '\\n'\n",
       "                                                 '\\n'\n",
       "                                                 '\\n'\n",
       "                                                 '-- \\n'\n",
       "                                                 '----------------------------------------------------------------------------\\n'\n",
       "                                                 'Gordon Banks  N3JXP      | '\n",
       "                                                 '\"Skepticism is the chastity '\n",
       "                                                 'of the intellect, and\\n'\n",
       "                                                 'geb@cadre.dsl.pitt.edu   |  '\n",
       "                                                 'it is shameful to surrender '\n",
       "                                                 'it too soon.\" \\n'\n",
       "                                                 '----------------------------------------------------------------------------\\n', ...])),\n",
       "                               ('vec', CountVectorizer())])"
      ]
     },
     "execution_count": 12,
     "metadata": {},
     "output_type": "execute_result"
    }
   ],
   "source": [
    "from sklearn.pipeline import Pipeline, FeatureUnion\n",
    "combined_features = FeatureUnion([(\"nb_word_sent\", TextStats(data_train.data)),(\"vec\",CountVectorizer())])\n",
    "combined_features"
   ]
  },
  {
   "cell_type": "markdown",
   "id": "abea0ee4",
   "metadata": {},
   "source": [
    "## Trouver les meilleurs hyperparamètres pour chaque modèle"
   ]
  },
  {
   "cell_type": "markdown",
   "id": "c358cd71",
   "metadata": {},
   "source": [
    "### Naïves Bayes"
   ]
  },
  {
   "cell_type": "code",
   "execution_count": 13,
   "id": "52a809c1",
   "metadata": {},
   "outputs": [
    {
     "name": "stdout",
     "output_type": "stream",
     "text": [
      "Fitting 2 folds for each of 14 candidates, totalling 28 fits\n",
      "[CV 1/2; 1/14] START features__vec__ngram_range=(1, 1), gnb__var_smoothing=0.001\n"
     ]
    },
    {
     "ename": "ValueError",
     "evalue": "Invalid parameter 'gnb' for estimator Pipeline(steps=[('features',\n                 FeatureUnion(transformer_list=[('nb_word_sent',\n                                                 TextStats(value=['From: '\n                                                                  'al@escom.com '\n                                                                  '(Al '\n                                                                  'Donaldson)\\n'\n                                                                  'Subject: '\n                                                                  'Re: Once '\n                                                                  'tapped, '\n                                                                  'your code '\n                                                                  'is no good '\n                                                                  'any more.\\n'\n                                                                  'Reply-To: '\n                                                                  'al@escom.COM '\n                                                                  '(Al '\n                                                                  'Donaldson)\\n'\n                                                                  'Organization: '\n                                                                  'ESCOM '\n                                                                  'Corp., '\n                                                                  'Oakton VA '\n                                                                  '(USA)\\n'\n                                                                  'Distribution: '\n                                                                  'na\\n'\n                                                                  'Lines: 16\\n'\n                                                                  '\\n'\n                                                                  'amolitor@nmsu.edu '\n                                                                  '(Andrew '...\n                                                                  '----------------------------------------------------------------------------\\n'\n                                                                  'Gordon '\n                                                                  'Banks  '\n                                                                  'N3JXP      '\n                                                                  '| '\n                                                                  '\"Skepticism '\n                                                                  'is the '\n                                                                  'chastity of '\n                                                                  'the '\n                                                                  'intellect, '\n                                                                  'and\\n'\n                                                                  'geb@cadre.dsl.pitt.edu   '\n                                                                  '|  it is '\n                                                                  'shameful to '\n                                                                  'surrender '\n                                                                  'it too '\n                                                                  'soon.\" \\n'\n                                                                  '----------------------------------------------------------------------------\\n', ...])),\n                                                ('vec', CountVectorizer())])),\n                ('svm', SVC())]). Valid parameters are: ['memory', 'steps', 'verbose'].",
     "output_type": "error",
     "traceback": [
      "\u001b[1;31m---------------------------------------------------------------------------\u001b[0m",
      "\u001b[1;31mValueError\u001b[0m                                Traceback (most recent call last)",
      "Cell \u001b[1;32mIn[13], line 20\u001b[0m\n\u001b[0;32m     18\u001b[0m X\u001b[39m=\u001b[39mnp\u001b[39m.\u001b[39marray(data_train\u001b[39m.\u001b[39mdata)\n\u001b[0;32m     19\u001b[0m y\u001b[39m=\u001b[39mnp\u001b[39m.\u001b[39marray(data_train\u001b[39m.\u001b[39mtarget)\n\u001b[1;32m---> 20\u001b[0m grid_search\u001b[39m.\u001b[39;49mfit(X, y)\n\u001b[0;32m     21\u001b[0m \u001b[39mprint\u001b[39m(grid_search\u001b[39m.\u001b[39mbest_estimator_)\n",
      "File \u001b[1;32mc:\\Users\\aengp\\Documents\\SCHOOL\\M1_TAL\\s9\\apprentissage_artificiel\\tp\\.venvML\\lib\\site-packages\\sklearn\\model_selection\\_search.py:875\u001b[0m, in \u001b[0;36mBaseSearchCV.fit\u001b[1;34m(self, X, y, groups, **fit_params)\u001b[0m\n\u001b[0;32m    869\u001b[0m     results \u001b[39m=\u001b[39m \u001b[39mself\u001b[39m\u001b[39m.\u001b[39m_format_results(\n\u001b[0;32m    870\u001b[0m         all_candidate_params, n_splits, all_out, all_more_results\n\u001b[0;32m    871\u001b[0m     )\n\u001b[0;32m    873\u001b[0m     \u001b[39mreturn\u001b[39;00m results\n\u001b[1;32m--> 875\u001b[0m \u001b[39mself\u001b[39;49m\u001b[39m.\u001b[39;49m_run_search(evaluate_candidates)\n\u001b[0;32m    877\u001b[0m \u001b[39m# multimetric is determined here because in the case of a callable\u001b[39;00m\n\u001b[0;32m    878\u001b[0m \u001b[39m# self.scoring the return type is only known after calling\u001b[39;00m\n\u001b[0;32m    879\u001b[0m first_test_score \u001b[39m=\u001b[39m all_out[\u001b[39m0\u001b[39m][\u001b[39m\"\u001b[39m\u001b[39mtest_scores\u001b[39m\u001b[39m\"\u001b[39m]\n",
      "File \u001b[1;32mc:\\Users\\aengp\\Documents\\SCHOOL\\M1_TAL\\s9\\apprentissage_artificiel\\tp\\.venvML\\lib\\site-packages\\sklearn\\model_selection\\_search.py:1389\u001b[0m, in \u001b[0;36mGridSearchCV._run_search\u001b[1;34m(self, evaluate_candidates)\u001b[0m\n\u001b[0;32m   1387\u001b[0m \u001b[39mdef\u001b[39;00m \u001b[39m_run_search\u001b[39m(\u001b[39mself\u001b[39m, evaluate_candidates):\n\u001b[0;32m   1388\u001b[0m     \u001b[39m\"\"\"Search all candidates in param_grid\"\"\"\u001b[39;00m\n\u001b[1;32m-> 1389\u001b[0m     evaluate_candidates(ParameterGrid(\u001b[39mself\u001b[39;49m\u001b[39m.\u001b[39;49mparam_grid))\n",
      "File \u001b[1;32mc:\\Users\\aengp\\Documents\\SCHOOL\\M1_TAL\\s9\\apprentissage_artificiel\\tp\\.venvML\\lib\\site-packages\\sklearn\\model_selection\\_search.py:822\u001b[0m, in \u001b[0;36mBaseSearchCV.fit.<locals>.evaluate_candidates\u001b[1;34m(candidate_params, cv, more_results)\u001b[0m\n\u001b[0;32m    814\u001b[0m \u001b[39mif\u001b[39;00m \u001b[39mself\u001b[39m\u001b[39m.\u001b[39mverbose \u001b[39m>\u001b[39m \u001b[39m0\u001b[39m:\n\u001b[0;32m    815\u001b[0m     \u001b[39mprint\u001b[39m(\n\u001b[0;32m    816\u001b[0m         \u001b[39m\"\u001b[39m\u001b[39mFitting \u001b[39m\u001b[39m{0}\u001b[39;00m\u001b[39m folds for each of \u001b[39m\u001b[39m{1}\u001b[39;00m\u001b[39m candidates,\u001b[39m\u001b[39m\"\u001b[39m\n\u001b[0;32m    817\u001b[0m         \u001b[39m\"\u001b[39m\u001b[39m totalling \u001b[39m\u001b[39m{2}\u001b[39;00m\u001b[39m fits\u001b[39m\u001b[39m\"\u001b[39m\u001b[39m.\u001b[39mformat(\n\u001b[0;32m    818\u001b[0m             n_splits, n_candidates, n_candidates \u001b[39m*\u001b[39m n_splits\n\u001b[0;32m    819\u001b[0m         )\n\u001b[0;32m    820\u001b[0m     )\n\u001b[1;32m--> 822\u001b[0m out \u001b[39m=\u001b[39m parallel(\n\u001b[0;32m    823\u001b[0m     delayed(_fit_and_score)(\n\u001b[0;32m    824\u001b[0m         clone(base_estimator),\n\u001b[0;32m    825\u001b[0m         X,\n\u001b[0;32m    826\u001b[0m         y,\n\u001b[0;32m    827\u001b[0m         train\u001b[39m=\u001b[39;49mtrain,\n\u001b[0;32m    828\u001b[0m         test\u001b[39m=\u001b[39;49mtest,\n\u001b[0;32m    829\u001b[0m         parameters\u001b[39m=\u001b[39;49mparameters,\n\u001b[0;32m    830\u001b[0m         split_progress\u001b[39m=\u001b[39;49m(split_idx, n_splits),\n\u001b[0;32m    831\u001b[0m         candidate_progress\u001b[39m=\u001b[39;49m(cand_idx, n_candidates),\n\u001b[0;32m    832\u001b[0m         \u001b[39m*\u001b[39;49m\u001b[39m*\u001b[39;49mfit_and_score_kwargs,\n\u001b[0;32m    833\u001b[0m     )\n\u001b[0;32m    834\u001b[0m     \u001b[39mfor\u001b[39;49;00m (cand_idx, parameters), (split_idx, (train, test)) \u001b[39min\u001b[39;49;00m product(\n\u001b[0;32m    835\u001b[0m         \u001b[39menumerate\u001b[39;49m(candidate_params), \u001b[39menumerate\u001b[39;49m(cv\u001b[39m.\u001b[39;49msplit(X, y, groups))\n\u001b[0;32m    836\u001b[0m     )\n\u001b[0;32m    837\u001b[0m )\n\u001b[0;32m    839\u001b[0m \u001b[39mif\u001b[39;00m \u001b[39mlen\u001b[39m(out) \u001b[39m<\u001b[39m \u001b[39m1\u001b[39m:\n\u001b[0;32m    840\u001b[0m     \u001b[39mraise\u001b[39;00m \u001b[39mValueError\u001b[39;00m(\n\u001b[0;32m    841\u001b[0m         \u001b[39m\"\u001b[39m\u001b[39mNo fits were performed. \u001b[39m\u001b[39m\"\u001b[39m\n\u001b[0;32m    842\u001b[0m         \u001b[39m\"\u001b[39m\u001b[39mWas the CV iterator empty? \u001b[39m\u001b[39m\"\u001b[39m\n\u001b[0;32m    843\u001b[0m         \u001b[39m\"\u001b[39m\u001b[39mWere there no candidates?\u001b[39m\u001b[39m\"\u001b[39m\n\u001b[0;32m    844\u001b[0m     )\n",
      "File \u001b[1;32mc:\\Users\\aengp\\Documents\\SCHOOL\\M1_TAL\\s9\\apprentissage_artificiel\\tp\\.venvML\\lib\\site-packages\\joblib\\parallel.py:1085\u001b[0m, in \u001b[0;36mParallel.__call__\u001b[1;34m(self, iterable)\u001b[0m\n\u001b[0;32m   1076\u001b[0m \u001b[39mtry\u001b[39;00m:\n\u001b[0;32m   1077\u001b[0m     \u001b[39m# Only set self._iterating to True if at least a batch\u001b[39;00m\n\u001b[0;32m   1078\u001b[0m     \u001b[39m# was dispatched. In particular this covers the edge\u001b[39;00m\n\u001b[1;32m   (...)\u001b[0m\n\u001b[0;32m   1082\u001b[0m     \u001b[39m# was very quick and its callback already dispatched all the\u001b[39;00m\n\u001b[0;32m   1083\u001b[0m     \u001b[39m# remaining jobs.\u001b[39;00m\n\u001b[0;32m   1084\u001b[0m     \u001b[39mself\u001b[39m\u001b[39m.\u001b[39m_iterating \u001b[39m=\u001b[39m \u001b[39mFalse\u001b[39;00m\n\u001b[1;32m-> 1085\u001b[0m     \u001b[39mif\u001b[39;00m \u001b[39mself\u001b[39;49m\u001b[39m.\u001b[39;49mdispatch_one_batch(iterator):\n\u001b[0;32m   1086\u001b[0m         \u001b[39mself\u001b[39m\u001b[39m.\u001b[39m_iterating \u001b[39m=\u001b[39m \u001b[39mself\u001b[39m\u001b[39m.\u001b[39m_original_iterator \u001b[39mis\u001b[39;00m \u001b[39mnot\u001b[39;00m \u001b[39mNone\u001b[39;00m\n\u001b[0;32m   1088\u001b[0m     \u001b[39mwhile\u001b[39;00m \u001b[39mself\u001b[39m\u001b[39m.\u001b[39mdispatch_one_batch(iterator):\n",
      "File \u001b[1;32mc:\\Users\\aengp\\Documents\\SCHOOL\\M1_TAL\\s9\\apprentissage_artificiel\\tp\\.venvML\\lib\\site-packages\\joblib\\parallel.py:901\u001b[0m, in \u001b[0;36mParallel.dispatch_one_batch\u001b[1;34m(self, iterator)\u001b[0m\n\u001b[0;32m    899\u001b[0m     \u001b[39mreturn\u001b[39;00m \u001b[39mFalse\u001b[39;00m\n\u001b[0;32m    900\u001b[0m \u001b[39melse\u001b[39;00m:\n\u001b[1;32m--> 901\u001b[0m     \u001b[39mself\u001b[39;49m\u001b[39m.\u001b[39;49m_dispatch(tasks)\n\u001b[0;32m    902\u001b[0m     \u001b[39mreturn\u001b[39;00m \u001b[39mTrue\u001b[39;00m\n",
      "File \u001b[1;32mc:\\Users\\aengp\\Documents\\SCHOOL\\M1_TAL\\s9\\apprentissage_artificiel\\tp\\.venvML\\lib\\site-packages\\joblib\\parallel.py:819\u001b[0m, in \u001b[0;36mParallel._dispatch\u001b[1;34m(self, batch)\u001b[0m\n\u001b[0;32m    817\u001b[0m \u001b[39mwith\u001b[39;00m \u001b[39mself\u001b[39m\u001b[39m.\u001b[39m_lock:\n\u001b[0;32m    818\u001b[0m     job_idx \u001b[39m=\u001b[39m \u001b[39mlen\u001b[39m(\u001b[39mself\u001b[39m\u001b[39m.\u001b[39m_jobs)\n\u001b[1;32m--> 819\u001b[0m     job \u001b[39m=\u001b[39m \u001b[39mself\u001b[39;49m\u001b[39m.\u001b[39;49m_backend\u001b[39m.\u001b[39;49mapply_async(batch, callback\u001b[39m=\u001b[39;49mcb)\n\u001b[0;32m    820\u001b[0m     \u001b[39m# A job can complete so quickly than its callback is\u001b[39;00m\n\u001b[0;32m    821\u001b[0m     \u001b[39m# called before we get here, causing self._jobs to\u001b[39;00m\n\u001b[0;32m    822\u001b[0m     \u001b[39m# grow. To ensure correct results ordering, .insert is\u001b[39;00m\n\u001b[0;32m    823\u001b[0m     \u001b[39m# used (rather than .append) in the following line\u001b[39;00m\n\u001b[0;32m    824\u001b[0m     \u001b[39mself\u001b[39m\u001b[39m.\u001b[39m_jobs\u001b[39m.\u001b[39minsert(job_idx, job)\n",
      "File \u001b[1;32mc:\\Users\\aengp\\Documents\\SCHOOL\\M1_TAL\\s9\\apprentissage_artificiel\\tp\\.venvML\\lib\\site-packages\\joblib\\_parallel_backends.py:208\u001b[0m, in \u001b[0;36mSequentialBackend.apply_async\u001b[1;34m(self, func, callback)\u001b[0m\n\u001b[0;32m    206\u001b[0m \u001b[39mdef\u001b[39;00m \u001b[39mapply_async\u001b[39m(\u001b[39mself\u001b[39m, func, callback\u001b[39m=\u001b[39m\u001b[39mNone\u001b[39;00m):\n\u001b[0;32m    207\u001b[0m     \u001b[39m\"\"\"Schedule a func to be run\"\"\"\u001b[39;00m\n\u001b[1;32m--> 208\u001b[0m     result \u001b[39m=\u001b[39m ImmediateResult(func)\n\u001b[0;32m    209\u001b[0m     \u001b[39mif\u001b[39;00m callback:\n\u001b[0;32m    210\u001b[0m         callback(result)\n",
      "File \u001b[1;32mc:\\Users\\aengp\\Documents\\SCHOOL\\M1_TAL\\s9\\apprentissage_artificiel\\tp\\.venvML\\lib\\site-packages\\joblib\\_parallel_backends.py:597\u001b[0m, in \u001b[0;36mImmediateResult.__init__\u001b[1;34m(self, batch)\u001b[0m\n\u001b[0;32m    594\u001b[0m \u001b[39mdef\u001b[39;00m \u001b[39m__init__\u001b[39m(\u001b[39mself\u001b[39m, batch):\n\u001b[0;32m    595\u001b[0m     \u001b[39m# Don't delay the application, to avoid keeping the input\u001b[39;00m\n\u001b[0;32m    596\u001b[0m     \u001b[39m# arguments in memory\u001b[39;00m\n\u001b[1;32m--> 597\u001b[0m     \u001b[39mself\u001b[39m\u001b[39m.\u001b[39mresults \u001b[39m=\u001b[39m batch()\n",
      "File \u001b[1;32mc:\\Users\\aengp\\Documents\\SCHOOL\\M1_TAL\\s9\\apprentissage_artificiel\\tp\\.venvML\\lib\\site-packages\\joblib\\parallel.py:288\u001b[0m, in \u001b[0;36mBatchedCalls.__call__\u001b[1;34m(self)\u001b[0m\n\u001b[0;32m    284\u001b[0m \u001b[39mdef\u001b[39;00m \u001b[39m__call__\u001b[39m(\u001b[39mself\u001b[39m):\n\u001b[0;32m    285\u001b[0m     \u001b[39m# Set the default nested backend to self._backend but do not set the\u001b[39;00m\n\u001b[0;32m    286\u001b[0m     \u001b[39m# change the default number of processes to -1\u001b[39;00m\n\u001b[0;32m    287\u001b[0m     \u001b[39mwith\u001b[39;00m parallel_backend(\u001b[39mself\u001b[39m\u001b[39m.\u001b[39m_backend, n_jobs\u001b[39m=\u001b[39m\u001b[39mself\u001b[39m\u001b[39m.\u001b[39m_n_jobs):\n\u001b[1;32m--> 288\u001b[0m         \u001b[39mreturn\u001b[39;00m [func(\u001b[39m*\u001b[39margs, \u001b[39m*\u001b[39m\u001b[39m*\u001b[39mkwargs)\n\u001b[0;32m    289\u001b[0m                 \u001b[39mfor\u001b[39;00m func, args, kwargs \u001b[39min\u001b[39;00m \u001b[39mself\u001b[39m\u001b[39m.\u001b[39mitems]\n",
      "File \u001b[1;32mc:\\Users\\aengp\\Documents\\SCHOOL\\M1_TAL\\s9\\apprentissage_artificiel\\tp\\.venvML\\lib\\site-packages\\joblib\\parallel.py:288\u001b[0m, in \u001b[0;36m<listcomp>\u001b[1;34m(.0)\u001b[0m\n\u001b[0;32m    284\u001b[0m \u001b[39mdef\u001b[39;00m \u001b[39m__call__\u001b[39m(\u001b[39mself\u001b[39m):\n\u001b[0;32m    285\u001b[0m     \u001b[39m# Set the default nested backend to self._backend but do not set the\u001b[39;00m\n\u001b[0;32m    286\u001b[0m     \u001b[39m# change the default number of processes to -1\u001b[39;00m\n\u001b[0;32m    287\u001b[0m     \u001b[39mwith\u001b[39;00m parallel_backend(\u001b[39mself\u001b[39m\u001b[39m.\u001b[39m_backend, n_jobs\u001b[39m=\u001b[39m\u001b[39mself\u001b[39m\u001b[39m.\u001b[39m_n_jobs):\n\u001b[1;32m--> 288\u001b[0m         \u001b[39mreturn\u001b[39;00m [func(\u001b[39m*\u001b[39margs, \u001b[39m*\u001b[39m\u001b[39m*\u001b[39mkwargs)\n\u001b[0;32m    289\u001b[0m                 \u001b[39mfor\u001b[39;00m func, args, kwargs \u001b[39min\u001b[39;00m \u001b[39mself\u001b[39m\u001b[39m.\u001b[39mitems]\n",
      "File \u001b[1;32mc:\\Users\\aengp\\Documents\\SCHOOL\\M1_TAL\\s9\\apprentissage_artificiel\\tp\\.venvML\\lib\\site-packages\\sklearn\\utils\\fixes.py:117\u001b[0m, in \u001b[0;36m_FuncWrapper.__call__\u001b[1;34m(self, *args, **kwargs)\u001b[0m\n\u001b[0;32m    115\u001b[0m \u001b[39mdef\u001b[39;00m \u001b[39m__call__\u001b[39m(\u001b[39mself\u001b[39m, \u001b[39m*\u001b[39margs, \u001b[39m*\u001b[39m\u001b[39m*\u001b[39mkwargs):\n\u001b[0;32m    116\u001b[0m     \u001b[39mwith\u001b[39;00m config_context(\u001b[39m*\u001b[39m\u001b[39m*\u001b[39m\u001b[39mself\u001b[39m\u001b[39m.\u001b[39mconfig):\n\u001b[1;32m--> 117\u001b[0m         \u001b[39mreturn\u001b[39;00m \u001b[39mself\u001b[39m\u001b[39m.\u001b[39mfunction(\u001b[39m*\u001b[39margs, \u001b[39m*\u001b[39m\u001b[39m*\u001b[39mkwargs)\n",
      "File \u001b[1;32mc:\\Users\\aengp\\Documents\\SCHOOL\\M1_TAL\\s9\\apprentissage_artificiel\\tp\\.venvML\\lib\\site-packages\\sklearn\\model_selection\\_validation.py:674\u001b[0m, in \u001b[0;36m_fit_and_score\u001b[1;34m(estimator, X, y, scorer, train, test, verbose, parameters, fit_params, return_train_score, return_parameters, return_n_test_samples, return_times, return_estimator, split_progress, candidate_progress, error_score)\u001b[0m\n\u001b[0;32m    671\u001b[0m     \u001b[39mfor\u001b[39;00m k, v \u001b[39min\u001b[39;00m parameters\u001b[39m.\u001b[39mitems():\n\u001b[0;32m    672\u001b[0m         cloned_parameters[k] \u001b[39m=\u001b[39m clone(v, safe\u001b[39m=\u001b[39m\u001b[39mFalse\u001b[39;00m)\n\u001b[1;32m--> 674\u001b[0m     estimator \u001b[39m=\u001b[39m estimator\u001b[39m.\u001b[39mset_params(\u001b[39m*\u001b[39m\u001b[39m*\u001b[39mcloned_parameters)\n\u001b[0;32m    676\u001b[0m start_time \u001b[39m=\u001b[39m time\u001b[39m.\u001b[39mtime()\n\u001b[0;32m    678\u001b[0m X_train, y_train \u001b[39m=\u001b[39m _safe_split(estimator, X, y, train)\n",
      "File \u001b[1;32mc:\\Users\\aengp\\Documents\\SCHOOL\\M1_TAL\\s9\\apprentissage_artificiel\\tp\\.venvML\\lib\\site-packages\\sklearn\\pipeline.py:212\u001b[0m, in \u001b[0;36mPipeline.set_params\u001b[1;34m(self, **kwargs)\u001b[0m\n\u001b[0;32m    193\u001b[0m \u001b[39mdef\u001b[39;00m \u001b[39mset_params\u001b[39m(\u001b[39mself\u001b[39m, \u001b[39m*\u001b[39m\u001b[39m*\u001b[39mkwargs):\n\u001b[0;32m    194\u001b[0m     \u001b[39m\"\"\"Set the parameters of this estimator.\u001b[39;00m\n\u001b[0;32m    195\u001b[0m \n\u001b[0;32m    196\u001b[0m \u001b[39m    Valid parameter keys can be listed with ``get_params()``. Note that\u001b[39;00m\n\u001b[1;32m   (...)\u001b[0m\n\u001b[0;32m    210\u001b[0m \u001b[39m        Pipeline class instance.\u001b[39;00m\n\u001b[0;32m    211\u001b[0m \u001b[39m    \"\"\"\u001b[39;00m\n\u001b[1;32m--> 212\u001b[0m     \u001b[39mself\u001b[39m\u001b[39m.\u001b[39m_set_params(\u001b[39m\"\u001b[39m\u001b[39msteps\u001b[39m\u001b[39m\"\u001b[39m, \u001b[39m*\u001b[39m\u001b[39m*\u001b[39mkwargs)\n\u001b[0;32m    213\u001b[0m     \u001b[39mreturn\u001b[39;00m \u001b[39mself\u001b[39m\n",
      "File \u001b[1;32mc:\\Users\\aengp\\Documents\\SCHOOL\\M1_TAL\\s9\\apprentissage_artificiel\\tp\\.venvML\\lib\\site-packages\\sklearn\\utils\\metaestimators.py:70\u001b[0m, in \u001b[0;36m_BaseComposition._set_params\u001b[1;34m(self, attr, **params)\u001b[0m\n\u001b[0;32m     67\u001b[0m                 \u001b[39mself\u001b[39m\u001b[39m.\u001b[39m_replace_estimator(attr, name, params\u001b[39m.\u001b[39mpop(name))\n\u001b[0;32m     69\u001b[0m \u001b[39m# 3. Step parameters and other initialisation arguments\u001b[39;00m\n\u001b[1;32m---> 70\u001b[0m \u001b[39msuper\u001b[39m()\u001b[39m.\u001b[39mset_params(\u001b[39m*\u001b[39m\u001b[39m*\u001b[39mparams)\n\u001b[0;32m     71\u001b[0m \u001b[39mreturn\u001b[39;00m \u001b[39mself\u001b[39m\n",
      "File \u001b[1;32mc:\\Users\\aengp\\Documents\\SCHOOL\\M1_TAL\\s9\\apprentissage_artificiel\\tp\\.venvML\\lib\\site-packages\\sklearn\\base.py:205\u001b[0m, in \u001b[0;36mBaseEstimator.set_params\u001b[1;34m(self, **params)\u001b[0m\n\u001b[0;32m    203\u001b[0m \u001b[39mif\u001b[39;00m key \u001b[39mnot\u001b[39;00m \u001b[39min\u001b[39;00m valid_params:\n\u001b[0;32m    204\u001b[0m     local_valid_params \u001b[39m=\u001b[39m \u001b[39mself\u001b[39m\u001b[39m.\u001b[39m_get_param_names()\n\u001b[1;32m--> 205\u001b[0m     \u001b[39mraise\u001b[39;00m \u001b[39mValueError\u001b[39;00m(\n\u001b[0;32m    206\u001b[0m         \u001b[39mf\u001b[39m\u001b[39m\"\u001b[39m\u001b[39mInvalid parameter \u001b[39m\u001b[39m{\u001b[39;00mkey\u001b[39m!r}\u001b[39;00m\u001b[39m for estimator \u001b[39m\u001b[39m{\u001b[39;00m\u001b[39mself\u001b[39m\u001b[39m}\u001b[39;00m\u001b[39m. \u001b[39m\u001b[39m\"\u001b[39m\n\u001b[0;32m    207\u001b[0m         \u001b[39mf\u001b[39m\u001b[39m\"\u001b[39m\u001b[39mValid parameters are: \u001b[39m\u001b[39m{\u001b[39;00mlocal_valid_params\u001b[39m!r}\u001b[39;00m\u001b[39m.\u001b[39m\u001b[39m\"\u001b[39m\n\u001b[0;32m    208\u001b[0m     )\n\u001b[0;32m    210\u001b[0m \u001b[39mif\u001b[39;00m delim:\n\u001b[0;32m    211\u001b[0m     nested_params[key][sub_key] \u001b[39m=\u001b[39m value\n",
      "\u001b[1;31mValueError\u001b[0m: Invalid parameter 'gnb' for estimator Pipeline(steps=[('features',\n                 FeatureUnion(transformer_list=[('nb_word_sent',\n                                                 TextStats(value=['From: '\n                                                                  'al@escom.com '\n                                                                  '(Al '\n                                                                  'Donaldson)\\n'\n                                                                  'Subject: '\n                                                                  'Re: Once '\n                                                                  'tapped, '\n                                                                  'your code '\n                                                                  'is no good '\n                                                                  'any more.\\n'\n                                                                  'Reply-To: '\n                                                                  'al@escom.COM '\n                                                                  '(Al '\n                                                                  'Donaldson)\\n'\n                                                                  'Organization: '\n                                                                  'ESCOM '\n                                                                  'Corp., '\n                                                                  'Oakton VA '\n                                                                  '(USA)\\n'\n                                                                  'Distribution: '\n                                                                  'na\\n'\n                                                                  'Lines: 16\\n'\n                                                                  '\\n'\n                                                                  'amolitor@nmsu.edu '\n                                                                  '(Andrew '...\n                                                                  '----------------------------------------------------------------------------\\n'\n                                                                  'Gordon '\n                                                                  'Banks  '\n                                                                  'N3JXP      '\n                                                                  '| '\n                                                                  '\"Skepticism '\n                                                                  'is the '\n                                                                  'chastity of '\n                                                                  'the '\n                                                                  'intellect, '\n                                                                  'and\\n'\n                                                                  'geb@cadre.dsl.pitt.edu   '\n                                                                  '|  it is '\n                                                                  'shameful to '\n                                                                  'surrender '\n                                                                  'it too '\n                                                                  'soon.\" \\n'\n                                                                  '----------------------------------------------------------------------------\\n', ...])),\n                                                ('vec', CountVectorizer())])),\n                ('svm', SVC())]). Valid parameters are: ['memory', 'steps', 'verbose']."
     ]
    }
   ],
   "source": [
    "import numpy as np\n",
    "from sklearn.naive_bayes import GaussianNB\n",
    "from sklearn.pipeline import Pipeline, FeatureUnion\n",
    "from sklearn.model_selection import GridSearchCV\n",
    "from sklearn.svm import SVC\n",
    "clf = SVC()\n",
    "# Do grid search over k, n_components and C:\n",
    "\n",
    "pipeline = Pipeline([(\"features\", combined_features),(\"svm\", clf)])\n",
    "#(\"tfdif\",TfidfTransformer(smooth_idf=False))\n",
    "param_grid = dict(\n",
    "    features__vec__ngram_range=[(1, 1), (1, 2)],\n",
    "    # features__tfidf__use_idf=[True,False],\n",
    "    gnb__var_smoothing=[0.001, 0.01, 0.1, 0.9, 10, 100, 1000],\n",
    ")\n",
    "\n",
    "grid_search = GridSearchCV(pipeline, param_grid=param_grid, verbose=10,cv = 2, scoring = \"accuracy\")\n",
    "X=np.array(data_train.data)\n",
    "y=np.array(data_train.target)\n",
    "grid_search.fit(X, y)\n",
    "print(grid_search.best_estimator_)"
   ]
  },
  {
   "cell_type": "markdown",
   "id": "c4933acf",
   "metadata": {},
   "source": [
    "### Linear SV "
   ]
  },
  {
   "cell_type": "markdown",
   "id": "29c1cf84",
   "metadata": {},
   "source": [
    "## Comparer les deux modèles"
   ]
  },
  {
   "cell_type": "code",
   "execution_count": 14,
   "id": "e517f8f3",
   "metadata": {},
   "outputs": [
    {
     "name": "stdout",
     "output_type": "stream",
     "text": [
      "Fitting 5 folds for each of 18 candidates, totalling 90 fits\n",
      "[CV 1/5; 1/18] START features__pca__n_components=1, features__univ_select__k=1, svm__C=0.1\n",
      "[CV 1/5; 1/18] END features__pca__n_components=1, features__univ_select__k=1, svm__C=0.1;, score=0.933 total time=   0.0s\n",
      "[CV 2/5; 1/18] START features__pca__n_components=1, features__univ_select__k=1, svm__C=0.1\n",
      "[CV 2/5; 1/18] END features__pca__n_components=1, features__univ_select__k=1, svm__C=0.1;, score=0.933 total time=   0.0s\n",
      "[CV 3/5; 1/18] START features__pca__n_components=1, features__univ_select__k=1, svm__C=0.1\n",
      "[CV 3/5; 1/18] END features__pca__n_components=1, features__univ_select__k=1, svm__C=0.1;, score=0.867 total time=   0.0s\n",
      "[CV 4/5; 1/18] START features__pca__n_components=1, features__univ_select__k=1, svm__C=0.1\n",
      "[CV 4/5; 1/18] END features__pca__n_components=1, features__univ_select__k=1, svm__C=0.1;, score=0.933 total time=   0.0s\n",
      "[CV 5/5; 1/18] START features__pca__n_components=1, features__univ_select__k=1, svm__C=0.1\n",
      "[CV 5/5; 1/18] END features__pca__n_components=1, features__univ_select__k=1, svm__C=0.1;, score=1.000 total time=   0.0s\n",
      "[CV 1/5; 2/18] START features__pca__n_components=1, features__univ_select__k=1, svm__C=1\n",
      "[CV 1/5; 2/18] END features__pca__n_components=1, features__univ_select__k=1, svm__C=1;, score=0.900 total time=   0.0s\n",
      "[CV 2/5; 2/18] START features__pca__n_components=1, features__univ_select__k=1, svm__C=1\n",
      "[CV 2/5; 2/18] END features__pca__n_components=1, features__univ_select__k=1, svm__C=1;, score=1.000 total time=   0.0s\n",
      "[CV 3/5; 2/18] START features__pca__n_components=1, features__univ_select__k=1, svm__C=1\n",
      "[CV 3/5; 2/18] END features__pca__n_components=1, features__univ_select__k=1, svm__C=1;, score=0.867 total time=   0.0s\n",
      "[CV 4/5; 2/18] START features__pca__n_components=1, features__univ_select__k=1, svm__C=1\n",
      "[CV 4/5; 2/18] END features__pca__n_components=1, features__univ_select__k=1, svm__C=1;, score=0.933 total time=   0.0s\n",
      "[CV 5/5; 2/18] START features__pca__n_components=1, features__univ_select__k=1, svm__C=1\n",
      "[CV 5/5; 2/18] END features__pca__n_components=1, features__univ_select__k=1, svm__C=1;, score=1.000 total time=   0.0s\n",
      "[CV 1/5; 3/18] START features__pca__n_components=1, features__univ_select__k=1, svm__C=10\n",
      "[CV 1/5; 3/18] END features__pca__n_components=1, features__univ_select__k=1, svm__C=10;, score=0.933 total time=   0.0s\n",
      "[CV 2/5; 3/18] START features__pca__n_components=1, features__univ_select__k=1, svm__C=10\n",
      "[CV 2/5; 3/18] END features__pca__n_components=1, features__univ_select__k=1, svm__C=10;, score=1.000 total time=   0.0s\n",
      "[CV 3/5; 3/18] START features__pca__n_components=1, features__univ_select__k=1, svm__C=10\n",
      "[CV 3/5; 3/18] END features__pca__n_components=1, features__univ_select__k=1, svm__C=10;, score=0.900 total time=   0.0s\n",
      "[CV 4/5; 3/18] START features__pca__n_components=1, features__univ_select__k=1, svm__C=10\n",
      "[CV 4/5; 3/18] END features__pca__n_components=1, features__univ_select__k=1, svm__C=10;, score=0.933 total time=   0.0s\n",
      "[CV 5/5; 3/18] START features__pca__n_components=1, features__univ_select__k=1, svm__C=10\n",
      "[CV 5/5; 3/18] END features__pca__n_components=1, features__univ_select__k=1, svm__C=10;, score=1.000 total time=   0.0s\n",
      "[CV 1/5; 4/18] START features__pca__n_components=1, features__univ_select__k=2, svm__C=0.1\n",
      "[CV 1/5; 4/18] END features__pca__n_components=1, features__univ_select__k=2, svm__C=0.1;, score=0.933 total time=   0.0s\n",
      "[CV 2/5; 4/18] START features__pca__n_components=1, features__univ_select__k=2, svm__C=0.1\n",
      "[CV 2/5; 4/18] END features__pca__n_components=1, features__univ_select__k=2, svm__C=0.1;, score=0.967 total time=   0.0s\n",
      "[CV 3/5; 4/18] START features__pca__n_components=1, features__univ_select__k=2, svm__C=0.1\n",
      "[CV 3/5; 4/18] END features__pca__n_components=1, features__univ_select__k=2, svm__C=0.1;, score=0.933 total time=   0.0s\n",
      "[CV 4/5; 4/18] START features__pca__n_components=1, features__univ_select__k=2, svm__C=0.1\n",
      "[CV 4/5; 4/18] END features__pca__n_components=1, features__univ_select__k=2, svm__C=0.1;, score=0.933 total time=   0.0s\n",
      "[CV 5/5; 4/18] START features__pca__n_components=1, features__univ_select__k=2, svm__C=0.1\n",
      "[CV 5/5; 4/18] END features__pca__n_components=1, features__univ_select__k=2, svm__C=0.1;, score=1.000 total time=   0.0s\n",
      "[CV 1/5; 5/18] START features__pca__n_components=1, features__univ_select__k=2, svm__C=1\n",
      "[CV 1/5; 5/18] END features__pca__n_components=1, features__univ_select__k=2, svm__C=1;, score=0.933 total time=   0.0s\n",
      "[CV 2/5; 5/18] START features__pca__n_components=1, features__univ_select__k=2, svm__C=1\n",
      "[CV 2/5; 5/18] END features__pca__n_components=1, features__univ_select__k=2, svm__C=1;, score=0.967 total time=   0.0s\n",
      "[CV 3/5; 5/18] START features__pca__n_components=1, features__univ_select__k=2, svm__C=1\n",
      "[CV 3/5; 5/18] END features__pca__n_components=1, features__univ_select__k=2, svm__C=1;, score=0.933 total time=   0.0s\n",
      "[CV 4/5; 5/18] START features__pca__n_components=1, features__univ_select__k=2, svm__C=1\n",
      "[CV 4/5; 5/18] END features__pca__n_components=1, features__univ_select__k=2, svm__C=1;, score=0.933 total time=   0.0s\n",
      "[CV 5/5; 5/18] START features__pca__n_components=1, features__univ_select__k=2, svm__C=1\n",
      "[CV 5/5; 5/18] END features__pca__n_components=1, features__univ_select__k=2, svm__C=1;, score=1.000 total time=   0.0s\n",
      "[CV 1/5; 6/18] START features__pca__n_components=1, features__univ_select__k=2, svm__C=10\n",
      "[CV 1/5; 6/18] END features__pca__n_components=1, features__univ_select__k=2, svm__C=10;, score=0.967 total time=   0.0s\n",
      "[CV 2/5; 6/18] START features__pca__n_components=1, features__univ_select__k=2, svm__C=10\n",
      "[CV 2/5; 6/18] END features__pca__n_components=1, features__univ_select__k=2, svm__C=10;, score=0.967 total time=   0.0s\n",
      "[CV 3/5; 6/18] START features__pca__n_components=1, features__univ_select__k=2, svm__C=10\n",
      "[CV 3/5; 6/18] END features__pca__n_components=1, features__univ_select__k=2, svm__C=10;, score=0.933 total time=   0.0s\n",
      "[CV 4/5; 6/18] START features__pca__n_components=1, features__univ_select__k=2, svm__C=10\n",
      "[CV 4/5; 6/18] END features__pca__n_components=1, features__univ_select__k=2, svm__C=10;, score=0.933 total time=   0.0s\n",
      "[CV 5/5; 6/18] START features__pca__n_components=1, features__univ_select__k=2, svm__C=10\n",
      "[CV 5/5; 6/18] END features__pca__n_components=1, features__univ_select__k=2, svm__C=10;, score=1.000 total time=   0.0s\n",
      "[CV 1/5; 7/18] START features__pca__n_components=2, features__univ_select__k=1, svm__C=0.1\n",
      "[CV 1/5; 7/18] END features__pca__n_components=2, features__univ_select__k=1, svm__C=0.1;, score=0.933 total time=   0.0s\n",
      "[CV 2/5; 7/18] START features__pca__n_components=2, features__univ_select__k=1, svm__C=0.1\n",
      "[CV 2/5; 7/18] END features__pca__n_components=2, features__univ_select__k=1, svm__C=0.1;, score=1.000 total time=   0.0s\n",
      "[CV 3/5; 7/18] START features__pca__n_components=2, features__univ_select__k=1, svm__C=0.1\n",
      "[CV 3/5; 7/18] END features__pca__n_components=2, features__univ_select__k=1, svm__C=0.1;, score=0.867 total time=   0.0s\n",
      "[CV 4/5; 7/18] START features__pca__n_components=2, features__univ_select__k=1, svm__C=0.1\n",
      "[CV 4/5; 7/18] END features__pca__n_components=2, features__univ_select__k=1, svm__C=0.1;, score=0.933 total time=   0.0s\n",
      "[CV 5/5; 7/18] START features__pca__n_components=2, features__univ_select__k=1, svm__C=0.1\n",
      "[CV 5/5; 7/18] END features__pca__n_components=2, features__univ_select__k=1, svm__C=0.1;, score=1.000 total time=   0.0s\n",
      "[CV 1/5; 8/18] START features__pca__n_components=2, features__univ_select__k=1, svm__C=1\n",
      "[CV 1/5; 8/18] END features__pca__n_components=2, features__univ_select__k=1, svm__C=1;, score=0.967 total time=   0.0s\n",
      "[CV 2/5; 8/18] START features__pca__n_components=2, features__univ_select__k=1, svm__C=1\n",
      "[CV 2/5; 8/18] END features__pca__n_components=2, features__univ_select__k=1, svm__C=1;, score=1.000 total time=   0.0s\n",
      "[CV 3/5; 8/18] START features__pca__n_components=2, features__univ_select__k=1, svm__C=1\n",
      "[CV 3/5; 8/18] END features__pca__n_components=2, features__univ_select__k=1, svm__C=1;, score=0.933 total time=   0.0s\n",
      "[CV 4/5; 8/18] START features__pca__n_components=2, features__univ_select__k=1, svm__C=1\n",
      "[CV 4/5; 8/18] END features__pca__n_components=2, features__univ_select__k=1, svm__C=1;, score=0.933 total time=   0.0s\n",
      "[CV 5/5; 8/18] START features__pca__n_components=2, features__univ_select__k=1, svm__C=1\n",
      "[CV 5/5; 8/18] END features__pca__n_components=2, features__univ_select__k=1, svm__C=1;, score=1.000 total time=   0.0s\n",
      "[CV 1/5; 9/18] START features__pca__n_components=2, features__univ_select__k=1, svm__C=10\n",
      "[CV 1/5; 9/18] END features__pca__n_components=2, features__univ_select__k=1, svm__C=10;, score=0.967 total time=   0.0s\n",
      "[CV 2/5; 9/18] START features__pca__n_components=2, features__univ_select__k=1, svm__C=10\n",
      "[CV 2/5; 9/18] END features__pca__n_components=2, features__univ_select__k=1, svm__C=10;, score=0.967 total time=   0.0s\n",
      "[CV 3/5; 9/18] START features__pca__n_components=2, features__univ_select__k=1, svm__C=10\n",
      "[CV 3/5; 9/18] END features__pca__n_components=2, features__univ_select__k=1, svm__C=10;, score=0.900 total time=   0.0s\n",
      "[CV 4/5; 9/18] START features__pca__n_components=2, features__univ_select__k=1, svm__C=10\n",
      "[CV 4/5; 9/18] END features__pca__n_components=2, features__univ_select__k=1, svm__C=10;, score=0.933 total time=   0.0s\n",
      "[CV 5/5; 9/18] START features__pca__n_components=2, features__univ_select__k=1, svm__C=10\n",
      "[CV 5/5; 9/18] END features__pca__n_components=2, features__univ_select__k=1, svm__C=10;, score=1.000 total time=   0.0s\n",
      "[CV 1/5; 10/18] START features__pca__n_components=2, features__univ_select__k=2, svm__C=0.1\n",
      "[CV 1/5; 10/18] END features__pca__n_components=2, features__univ_select__k=2, svm__C=0.1;, score=0.967 total time=   0.0s\n",
      "[CV 2/5; 10/18] START features__pca__n_components=2, features__univ_select__k=2, svm__C=0.1\n",
      "[CV 2/5; 10/18] END features__pca__n_components=2, features__univ_select__k=2, svm__C=0.1;, score=1.000 total time=   0.0s\n",
      "[CV 3/5; 10/18] START features__pca__n_components=2, features__univ_select__k=2, svm__C=0.1\n",
      "[CV 3/5; 10/18] END features__pca__n_components=2, features__univ_select__k=2, svm__C=0.1;, score=0.933 total time=   0.0s\n",
      "[CV 4/5; 10/18] START features__pca__n_components=2, features__univ_select__k=2, svm__C=0.1\n",
      "[CV 4/5; 10/18] END features__pca__n_components=2, features__univ_select__k=2, svm__C=0.1;, score=0.933 total time=   0.0s\n",
      "[CV 5/5; 10/18] START features__pca__n_components=2, features__univ_select__k=2, svm__C=0.1\n",
      "[CV 5/5; 10/18] END features__pca__n_components=2, features__univ_select__k=2, svm__C=0.1;, score=1.000 total time=   0.0s\n",
      "[CV 1/5; 11/18] START features__pca__n_components=2, features__univ_select__k=2, svm__C=1\n",
      "[CV 1/5; 11/18] END features__pca__n_components=2, features__univ_select__k=2, svm__C=1;, score=0.967 total time=   0.0s\n",
      "[CV 2/5; 11/18] START features__pca__n_components=2, features__univ_select__k=2, svm__C=1\n",
      "[CV 2/5; 11/18] END features__pca__n_components=2, features__univ_select__k=2, svm__C=1;, score=1.000 total time=   0.0s\n",
      "[CV 3/5; 11/18] START features__pca__n_components=2, features__univ_select__k=2, svm__C=1\n",
      "[CV 3/5; 11/18] END features__pca__n_components=2, features__univ_select__k=2, svm__C=1;, score=0.933 total time=   0.0s\n",
      "[CV 4/5; 11/18] START features__pca__n_components=2, features__univ_select__k=2, svm__C=1\n",
      "[CV 4/5; 11/18] END features__pca__n_components=2, features__univ_select__k=2, svm__C=1;, score=0.967 total time=   0.0s\n",
      "[CV 5/5; 11/18] START features__pca__n_components=2, features__univ_select__k=2, svm__C=1\n",
      "[CV 5/5; 11/18] END features__pca__n_components=2, features__univ_select__k=2, svm__C=1;, score=1.000 total time=   0.0s\n",
      "[CV 1/5; 12/18] START features__pca__n_components=2, features__univ_select__k=2, svm__C=10\n",
      "[CV 1/5; 12/18] END features__pca__n_components=2, features__univ_select__k=2, svm__C=10;, score=0.967 total time=   0.0s\n",
      "[CV 2/5; 12/18] START features__pca__n_components=2, features__univ_select__k=2, svm__C=10\n",
      "[CV 2/5; 12/18] END features__pca__n_components=2, features__univ_select__k=2, svm__C=10;, score=1.000 total time=   0.0s\n",
      "[CV 3/5; 12/18] START features__pca__n_components=2, features__univ_select__k=2, svm__C=10\n",
      "[CV 3/5; 12/18] END features__pca__n_components=2, features__univ_select__k=2, svm__C=10;, score=0.900 total time=   0.0s\n",
      "[CV 4/5; 12/18] START features__pca__n_components=2, features__univ_select__k=2, svm__C=10\n",
      "[CV 4/5; 12/18] END features__pca__n_components=2, features__univ_select__k=2, svm__C=10;, score=0.933 total time=   0.0s\n",
      "[CV 5/5; 12/18] START features__pca__n_components=2, features__univ_select__k=2, svm__C=10\n",
      "[CV 5/5; 12/18] END features__pca__n_components=2, features__univ_select__k=2, svm__C=10;, score=1.000 total time=   0.0s\n",
      "[CV 1/5; 13/18] START features__pca__n_components=3, features__univ_select__k=1, svm__C=0.1\n",
      "[CV 1/5; 13/18] END features__pca__n_components=3, features__univ_select__k=1, svm__C=0.1;, score=0.967 total time=   0.0s\n",
      "[CV 2/5; 13/18] START features__pca__n_components=3, features__univ_select__k=1, svm__C=0.1\n",
      "[CV 2/5; 13/18] END features__pca__n_components=3, features__univ_select__k=1, svm__C=0.1;, score=1.000 total time=   0.0s\n",
      "[CV 3/5; 13/18] START features__pca__n_components=3, features__univ_select__k=1, svm__C=0.1\n",
      "[CV 3/5; 13/18] END features__pca__n_components=3, features__univ_select__k=1, svm__C=0.1;, score=0.933 total time=   0.0s\n",
      "[CV 4/5; 13/18] START features__pca__n_components=3, features__univ_select__k=1, svm__C=0.1\n",
      "[CV 4/5; 13/18] END features__pca__n_components=3, features__univ_select__k=1, svm__C=0.1;, score=0.967 total time=   0.0s\n",
      "[CV 5/5; 13/18] START features__pca__n_components=3, features__univ_select__k=1, svm__C=0.1\n",
      "[CV 5/5; 13/18] END features__pca__n_components=3, features__univ_select__k=1, svm__C=0.1;, score=1.000 total time=   0.0s\n",
      "[CV 1/5; 14/18] START features__pca__n_components=3, features__univ_select__k=1, svm__C=1\n",
      "[CV 1/5; 14/18] END features__pca__n_components=3, features__univ_select__k=1, svm__C=1;, score=0.967 total time=   0.0s\n",
      "[CV 2/5; 14/18] START features__pca__n_components=3, features__univ_select__k=1, svm__C=1\n",
      "[CV 2/5; 14/18] END features__pca__n_components=3, features__univ_select__k=1, svm__C=1;, score=1.000 total time=   0.0s\n",
      "[CV 3/5; 14/18] START features__pca__n_components=3, features__univ_select__k=1, svm__C=1\n",
      "[CV 3/5; 14/18] END features__pca__n_components=3, features__univ_select__k=1, svm__C=1;, score=0.933 total time=   0.0s\n",
      "[CV 4/5; 14/18] START features__pca__n_components=3, features__univ_select__k=1, svm__C=1\n",
      "[CV 4/5; 14/18] END features__pca__n_components=3, features__univ_select__k=1, svm__C=1;, score=0.967 total time=   0.0s\n",
      "[CV 5/5; 14/18] START features__pca__n_components=3, features__univ_select__k=1, svm__C=1\n",
      "[CV 5/5; 14/18] END features__pca__n_components=3, features__univ_select__k=1, svm__C=1;, score=1.000 total time=   0.0s\n",
      "[CV 1/5; 15/18] START features__pca__n_components=3, features__univ_select__k=1, svm__C=10\n",
      "[CV 1/5; 15/18] END features__pca__n_components=3, features__univ_select__k=1, svm__C=10;, score=1.000 total time=   0.0s\n",
      "[CV 2/5; 15/18] START features__pca__n_components=3, features__univ_select__k=1, svm__C=10\n",
      "[CV 2/5; 15/18] END features__pca__n_components=3, features__univ_select__k=1, svm__C=10;, score=1.000 total time=   0.0s\n",
      "[CV 3/5; 15/18] START features__pca__n_components=3, features__univ_select__k=1, svm__C=10\n",
      "[CV 3/5; 15/18] END features__pca__n_components=3, features__univ_select__k=1, svm__C=10;, score=0.933 total time=   0.0s\n",
      "[CV 4/5; 15/18] START features__pca__n_components=3, features__univ_select__k=1, svm__C=10\n",
      "[CV 4/5; 15/18] END features__pca__n_components=3, features__univ_select__k=1, svm__C=10;, score=0.967 total time=   0.0s\n",
      "[CV 5/5; 15/18] START features__pca__n_components=3, features__univ_select__k=1, svm__C=10\n",
      "[CV 5/5; 15/18] END features__pca__n_components=3, features__univ_select__k=1, svm__C=10;, score=1.000 total time=   0.0s\n",
      "[CV 1/5; 16/18] START features__pca__n_components=3, features__univ_select__k=2, svm__C=0.1\n",
      "[CV 1/5; 16/18] END features__pca__n_components=3, features__univ_select__k=2, svm__C=0.1;, score=0.967 total time=   0.0s\n",
      "[CV 2/5; 16/18] START features__pca__n_components=3, features__univ_select__k=2, svm__C=0.1\n",
      "[CV 2/5; 16/18] END features__pca__n_components=3, features__univ_select__k=2, svm__C=0.1;, score=1.000 total time=   0.0s\n",
      "[CV 3/5; 16/18] START features__pca__n_components=3, features__univ_select__k=2, svm__C=0.1\n",
      "[CV 3/5; 16/18] END features__pca__n_components=3, features__univ_select__k=2, svm__C=0.1;, score=0.933 total time=   0.0s\n",
      "[CV 4/5; 16/18] START features__pca__n_components=3, features__univ_select__k=2, svm__C=0.1\n",
      "[CV 4/5; 16/18] END features__pca__n_components=3, features__univ_select__k=2, svm__C=0.1;, score=0.967 total time=   0.0s\n",
      "[CV 5/5; 16/18] START features__pca__n_components=3, features__univ_select__k=2, svm__C=0.1\n",
      "[CV 5/5; 16/18] END features__pca__n_components=3, features__univ_select__k=2, svm__C=0.1;, score=1.000 total time=   0.0s\n",
      "[CV 1/5; 17/18] START features__pca__n_components=3, features__univ_select__k=2, svm__C=1\n",
      "[CV 1/5; 17/18] END features__pca__n_components=3, features__univ_select__k=2, svm__C=1;, score=0.967 total time=   0.0s\n",
      "[CV 2/5; 17/18] START features__pca__n_components=3, features__univ_select__k=2, svm__C=1\n",
      "[CV 2/5; 17/18] END features__pca__n_components=3, features__univ_select__k=2, svm__C=1;, score=1.000 total time=   0.0s\n",
      "[CV 3/5; 17/18] START features__pca__n_components=3, features__univ_select__k=2, svm__C=1\n",
      "[CV 3/5; 17/18] END features__pca__n_components=3, features__univ_select__k=2, svm__C=1;, score=0.967 total time=   0.0s\n",
      "[CV 4/5; 17/18] START features__pca__n_components=3, features__univ_select__k=2, svm__C=1\n",
      "[CV 4/5; 17/18] END features__pca__n_components=3, features__univ_select__k=2, svm__C=1;, score=0.967 total time=   0.0s\n",
      "[CV 5/5; 17/18] START features__pca__n_components=3, features__univ_select__k=2, svm__C=1\n",
      "[CV 5/5; 17/18] END features__pca__n_components=3, features__univ_select__k=2, svm__C=1;, score=1.000 total time=   0.0s\n",
      "[CV 1/5; 18/18] START features__pca__n_components=3, features__univ_select__k=2, svm__C=10\n",
      "[CV 1/5; 18/18] END features__pca__n_components=3, features__univ_select__k=2, svm__C=10;, score=1.000 total time=   0.0s\n",
      "[CV 2/5; 18/18] START features__pca__n_components=3, features__univ_select__k=2, svm__C=10\n",
      "[CV 2/5; 18/18] END features__pca__n_components=3, features__univ_select__k=2, svm__C=10;, score=1.000 total time=   0.0s\n",
      "[CV 3/5; 18/18] START features__pca__n_components=3, features__univ_select__k=2, svm__C=10\n",
      "[CV 3/5; 18/18] END features__pca__n_components=3, features__univ_select__k=2, svm__C=10;, score=0.900 total time=   0.0s\n",
      "[CV 4/5; 18/18] START features__pca__n_components=3, features__univ_select__k=2, svm__C=10\n",
      "[CV 4/5; 18/18] END features__pca__n_components=3, features__univ_select__k=2, svm__C=10;, score=0.967 total time=   0.0s\n",
      "[CV 5/5; 18/18] START features__pca__n_components=3, features__univ_select__k=2, svm__C=10\n",
      "[CV 5/5; 18/18] END features__pca__n_components=3, features__univ_select__k=2, svm__C=10;, score=1.000 total time=   0.0s\n",
      "Pipeline(steps=[('features',\n",
      "                 FeatureUnion(transformer_list=[('pca', PCA(n_components=3)),\n",
      "                                                ('univ_select',\n",
      "                                                 SelectKBest(k=1))])),\n",
      "                ('svm', SVC(C=10, kernel='linear'))])\n"
     ]
    }
   ],
   "source": [
    "\n",
    "from sklearn.pipeline import Pipeline, FeatureUnion\n",
    "from sklearn.model_selection import GridSearchCV\n",
    "from sklearn.svm import SVC\n",
    "from sklearn.datasets import load_iris\n",
    "from sklearn.decomposition import PCA\n",
    "from sklearn.feature_selection import SelectKBest\n",
    "\n",
    "iris = load_iris()\n",
    "\n",
    "X, y = iris.data, iris.target\n",
    "\n",
    "# This dataset is way too high-dimensional. Better do PCA:\n",
    "pca = PCA(n_components=2)\n",
    "\n",
    "# Maybe some original features were good, too?\n",
    "selection = SelectKBest(k=1)\n",
    "\n",
    "# Build estimator from PCA and Univariate selection:\n",
    "\n",
    "combined_features = FeatureUnion([(\"pca\", pca), (\"univ_select\", selection)])\n",
    "\n",
    "# Use combined features to transform dataset:\n",
    "#X_features = combined_features.fit(X, y).transform(X)\n",
    "#print(\"Combined space has\", X_features.shape[1], \"features\")\n",
    "\n",
    "svm = SVC(kernel=\"linear\")\n",
    "\n",
    "# Do grid search over k, n_components and C:\n",
    "\n",
    "pipeline = Pipeline([(\"features\", combined_features), (\"svm\", svm)])\n",
    "\n",
    "param_grid = dict(\n",
    "    features__pca__n_components=[1, 2, 3],\n",
    "    features__univ_select__k=[1, 2],\n",
    "    svm__C=[0.1, 1, 10],\n",
    ")\n",
    "\n",
    "grid_search = GridSearchCV(pipeline, param_grid=param_grid, verbose=10)\n",
    "grid_search.fit(X, y)\n",
    "print(grid_search.best_estimator_)"
   ]
  },
  {
   "cell_type": "code",
   "execution_count": 15,
   "id": "ea8b978f",
   "metadata": {},
   "outputs": [
    {
     "data": {
      "text/html": [
       "<style>#sk-container-id-2 {color: black;background-color: white;}#sk-container-id-2 pre{padding: 0;}#sk-container-id-2 div.sk-toggleable {background-color: white;}#sk-container-id-2 label.sk-toggleable__label {cursor: pointer;display: block;width: 100%;margin-bottom: 0;padding: 0.3em;box-sizing: border-box;text-align: center;}#sk-container-id-2 label.sk-toggleable__label-arrow:before {content: \"▸\";float: left;margin-right: 0.25em;color: #696969;}#sk-container-id-2 label.sk-toggleable__label-arrow:hover:before {color: black;}#sk-container-id-2 div.sk-estimator:hover label.sk-toggleable__label-arrow:before {color: black;}#sk-container-id-2 div.sk-toggleable__content {max-height: 0;max-width: 0;overflow: hidden;text-align: left;background-color: #f0f8ff;}#sk-container-id-2 div.sk-toggleable__content pre {margin: 0.2em;color: black;border-radius: 0.25em;background-color: #f0f8ff;}#sk-container-id-2 input.sk-toggleable__control:checked~div.sk-toggleable__content {max-height: 200px;max-width: 100%;overflow: auto;}#sk-container-id-2 input.sk-toggleable__control:checked~label.sk-toggleable__label-arrow:before {content: \"▾\";}#sk-container-id-2 div.sk-estimator input.sk-toggleable__control:checked~label.sk-toggleable__label {background-color: #d4ebff;}#sk-container-id-2 div.sk-label input.sk-toggleable__control:checked~label.sk-toggleable__label {background-color: #d4ebff;}#sk-container-id-2 input.sk-hidden--visually {border: 0;clip: rect(1px 1px 1px 1px);clip: rect(1px, 1px, 1px, 1px);height: 1px;margin: -1px;overflow: hidden;padding: 0;position: absolute;width: 1px;}#sk-container-id-2 div.sk-estimator {font-family: monospace;background-color: #f0f8ff;border: 1px dotted black;border-radius: 0.25em;box-sizing: border-box;margin-bottom: 0.5em;}#sk-container-id-2 div.sk-estimator:hover {background-color: #d4ebff;}#sk-container-id-2 div.sk-parallel-item::after {content: \"\";width: 100%;border-bottom: 1px solid gray;flex-grow: 1;}#sk-container-id-2 div.sk-label:hover label.sk-toggleable__label {background-color: #d4ebff;}#sk-container-id-2 div.sk-serial::before {content: \"\";position: absolute;border-left: 1px solid gray;box-sizing: border-box;top: 0;bottom: 0;left: 50%;z-index: 0;}#sk-container-id-2 div.sk-serial {display: flex;flex-direction: column;align-items: center;background-color: white;padding-right: 0.2em;padding-left: 0.2em;position: relative;}#sk-container-id-2 div.sk-item {position: relative;z-index: 1;}#sk-container-id-2 div.sk-parallel {display: flex;align-items: stretch;justify-content: center;background-color: white;position: relative;}#sk-container-id-2 div.sk-item::before, #sk-container-id-2 div.sk-parallel-item::before {content: \"\";position: absolute;border-left: 1px solid gray;box-sizing: border-box;top: 0;bottom: 0;left: 50%;z-index: -1;}#sk-container-id-2 div.sk-parallel-item {display: flex;flex-direction: column;z-index: 1;position: relative;background-color: white;}#sk-container-id-2 div.sk-parallel-item:first-child::after {align-self: flex-end;width: 50%;}#sk-container-id-2 div.sk-parallel-item:last-child::after {align-self: flex-start;width: 50%;}#sk-container-id-2 div.sk-parallel-item:only-child::after {width: 0;}#sk-container-id-2 div.sk-dashed-wrapped {border: 1px dashed gray;margin: 0 0.4em 0.5em 0.4em;box-sizing: border-box;padding-bottom: 0.4em;background-color: white;}#sk-container-id-2 div.sk-label label {font-family: monospace;font-weight: bold;display: inline-block;line-height: 1.2em;}#sk-container-id-2 div.sk-label-container {text-align: center;}#sk-container-id-2 div.sk-container {/* jupyter's `normalize.less` sets `[hidden] { display: none; }` but bootstrap.min.css set `[hidden] { display: none !important; }` so we also need the `!important` here to be able to override the default hidden behavior on the sphinx rendered scikit-learn.org. See: https://github.com/scikit-learn/scikit-learn/issues/21755 */display: inline-block !important;position: relative;}#sk-container-id-2 div.sk-text-repr-fallback {display: none;}</style><div id=\"sk-container-id-2\" class=\"sk-top-container\"><div class=\"sk-text-repr-fallback\"><pre>GridSearchCV(estimator=Pipeline(steps=[(&#x27;dim_reduction&#x27;, PCA()),\n",
       "                                       (&#x27;clf&#x27;, LogisticRegression())]),\n",
       "             param_grid=[{&#x27;clf&#x27;: (LogisticRegression(C=1),),\n",
       "                          &#x27;clf__C&#x27;: (0.001, 0.01, 0.1, 1, 10, 100)},\n",
       "                         {&#x27;clf&#x27;: (RandomForestClassifier(),),\n",
       "                          &#x27;clf__n_estimators&#x27;: (10, 30)}])</pre><b>In a Jupyter environment, please rerun this cell to show the HTML representation or trust the notebook. <br />On GitHub, the HTML representation is unable to render, please try loading this page with nbviewer.org.</b></div><div class=\"sk-container\" hidden><div class=\"sk-item sk-dashed-wrapped\"><div class=\"sk-label-container\"><div class=\"sk-label sk-toggleable\"><input class=\"sk-toggleable__control sk-hidden--visually\" id=\"sk-estimator-id-4\" type=\"checkbox\" ><label for=\"sk-estimator-id-4\" class=\"sk-toggleable__label sk-toggleable__label-arrow\">GridSearchCV</label><div class=\"sk-toggleable__content\"><pre>GridSearchCV(estimator=Pipeline(steps=[(&#x27;dim_reduction&#x27;, PCA()),\n",
       "                                       (&#x27;clf&#x27;, LogisticRegression())]),\n",
       "             param_grid=[{&#x27;clf&#x27;: (LogisticRegression(C=1),),\n",
       "                          &#x27;clf__C&#x27;: (0.001, 0.01, 0.1, 1, 10, 100)},\n",
       "                         {&#x27;clf&#x27;: (RandomForestClassifier(),),\n",
       "                          &#x27;clf__n_estimators&#x27;: (10, 30)}])</pre></div></div></div><div class=\"sk-parallel\"><div class=\"sk-parallel-item\"><div class=\"sk-item\"><div class=\"sk-label-container\"><div class=\"sk-label sk-toggleable\"><input class=\"sk-toggleable__control sk-hidden--visually\" id=\"sk-estimator-id-5\" type=\"checkbox\" ><label for=\"sk-estimator-id-5\" class=\"sk-toggleable__label sk-toggleable__label-arrow\">estimator: Pipeline</label><div class=\"sk-toggleable__content\"><pre>Pipeline(steps=[(&#x27;dim_reduction&#x27;, PCA()), (&#x27;clf&#x27;, LogisticRegression())])</pre></div></div></div><div class=\"sk-serial\"><div class=\"sk-item\"><div class=\"sk-serial\"><div class=\"sk-item\"><div class=\"sk-estimator sk-toggleable\"><input class=\"sk-toggleable__control sk-hidden--visually\" id=\"sk-estimator-id-6\" type=\"checkbox\" ><label for=\"sk-estimator-id-6\" class=\"sk-toggleable__label sk-toggleable__label-arrow\">PCA</label><div class=\"sk-toggleable__content\"><pre>PCA()</pre></div></div></div><div class=\"sk-item\"><div class=\"sk-estimator sk-toggleable\"><input class=\"sk-toggleable__control sk-hidden--visually\" id=\"sk-estimator-id-7\" type=\"checkbox\" ><label for=\"sk-estimator-id-7\" class=\"sk-toggleable__label sk-toggleable__label-arrow\">LogisticRegression</label><div class=\"sk-toggleable__content\"><pre>LogisticRegression()</pre></div></div></div></div></div></div></div></div></div></div></div></div>"
      ],
      "text/plain": [
       "GridSearchCV(estimator=Pipeline(steps=[('dim_reduction', PCA()),\n",
       "                                       ('clf', LogisticRegression())]),\n",
       "             param_grid=[{'clf': (LogisticRegression(C=1),),\n",
       "                          'clf__C': (0.001, 0.01, 0.1, 1, 10, 100)},\n",
       "                         {'clf': (RandomForestClassifier(),),\n",
       "                          'clf__n_estimators': (10, 30)}])"
      ]
     },
     "execution_count": 15,
     "metadata": {},
     "output_type": "execute_result"
    }
   ],
   "source": [
    "from sklearn.pipeline import Pipeline\n",
    "from sklearn.linear_model import LogisticRegression\n",
    "from sklearn.ensemble import RandomForestClassifier\n",
    "from sklearn.decomposition import PCA\n",
    "from sklearn.model_selection import GridSearchCV, train_test_split\n",
    "from sklearn.datasets import load_iris\n",
    "\n",
    "pipeline = Pipeline([\n",
    "    ('dim_reduction', PCA()),\n",
    "    ('clf', LogisticRegression()),\n",
    "])\n",
    "parameters = [\n",
    "    {\n",
    "        'clf': (LogisticRegression(),),\n",
    "        'clf__C': (0.001,0.01,0.1,1,10,100)\n",
    "    }, {\n",
    "        'clf': (RandomForestClassifier(),),\n",
    "        'clf__n_estimators': (10, 30),\n",
    "    }\n",
    "]\n",
    "grid_search = GridSearchCV(pipeline, parameters)\n",
    "\n",
    "# some example dataset\n",
    "X, y = load_iris(return_X_y=True)\n",
    "X_train, X_tes, y_train, y_test = train_test_split(X, y)\n",
    "grid_search.fit(X_train, y_train)"
   ]
  },
  {
   "cell_type": "code",
   "execution_count": null,
   "id": "228075b2",
   "metadata": {},
   "outputs": [],
   "source": []
  }
 ],
 "metadata": {
  "kernelspec": {
   "display_name": ".venvML",
   "language": "python",
   "name": "python3"
  },
  "language_info": {
   "codemirror_mode": {
    "name": "ipython",
    "version": 3
   },
   "file_extension": ".py",
   "mimetype": "text/x-python",
   "name": "python",
   "nbconvert_exporter": "python",
   "pygments_lexer": "ipython3",
   "version": "3.10.9"
  },
  "vscode": {
   "interpreter": {
    "hash": "7772623b82ed846feb46f5a96aa7fb44349f73638c006ae7e8cad2b5cbf66b21"
   }
  }
 },
 "nbformat": 4,
 "nbformat_minor": 5
}
