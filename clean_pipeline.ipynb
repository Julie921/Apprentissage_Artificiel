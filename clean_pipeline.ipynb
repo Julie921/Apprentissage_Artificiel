{
 "cells": [
  {
   "attachments": {},
   "cell_type": "markdown",
   "metadata": {},
   "source": [
    "# Importation des modules"
   ]
  },
  {
   "cell_type": "code",
   "execution_count": 89,
   "metadata": {},
   "outputs": [],
   "source": [
    "###### modules pour le chargement des données depuis le XML ######\n",
    "import glob\n",
    "from lxml import etree\n",
    "from preTraitements.xml import get_X_Y_from_root\n",
    "from preTraitements.xml import get_tree_root_from_file\n",
    "\n",
    "###### modules pour la classification ######\n",
    "\n",
    "# modèles\n",
    "from sklearn.svm import LinearSVC, SVC\n",
    "\n",
    "# vectorisation\n",
    "from sklearn.feature_extraction.text import CountVectorizer\n",
    "from sklearn.feature_extraction.text import TfidfTransformer\n",
    "from sklearn.preprocessing import StandardScaler\n",
    "\n",
    "# création de nos transformers\n",
    "from sklearn.pipeline import Pipeline, FeatureUnion\n",
    "from sklearn.preprocessing import FunctionTransformer\n",
    "from sklearn.feature_extraction import DictVectorizer # créer nos propres transformer\n",
    "\n",
    "# recherche des meilleurs hyperparamètres\n",
    "from sklearn.model_selection import RandomizedSearchCV\n",
    "from sklearn.model_selection import GridSearchCV\n",
    "\n",
    "# résultats\n",
    "from sklearn.metrics import classification_report\n",
    "\n",
    "# sauvegarde des modèles\n",
    "from joblib import dump, load\n",
    "\n",
    "###### modules pour la visualisation ######\n",
    "import matplotlib.pyplot as plt\n",
    "import pandas as pd\n",
    "\n",
    "###### miscellaneous ######\n",
    "from typing import List # typage des fonctions\n",
    "import numpy as np\n",
    "import re\n",
    "from collections import namedtuple"
   ]
  },
  {
   "attachments": {},
   "cell_type": "markdown",
   "metadata": {},
   "source": [
    "# Pré-traitement des données\n",
    "\n",
    "## Chargement des données dans le bon format"
   ]
  },
  {
   "cell_type": "code",
   "execution_count": 90,
   "metadata": {},
   "outputs": [],
   "source": [
    "tree_train, root_train = get_tree_root_from_file(\"./corpus/train_deft09_parlement_appr.xml/deft09_parlement_appr_fr.xml\")\n",
    "X_train, y_train = get_X_Y_from_root(root_train)\n",
    "\n",
    "tree_test, root_test = get_tree_root_from_file(\"./corpus/deft09_parlement_test.xml/deft09_parlement_test_fr.xml\")\n",
    "X_test, y_test = get_X_Y_from_root(root_test) # y_test est vide : pas accès aux résultats"
   ]
  },
  {
   "attachments": {},
   "cell_type": "markdown",
   "metadata": {},
   "source": [
    "## Nettoyage des données"
   ]
  },
  {
   "attachments": {},
   "cell_type": "markdown",
   "metadata": {},
   "source": [
    "enlever les majuscules et la ponctuation"
   ]
  },
  {
   "cell_type": "code",
   "execution_count": 91,
   "metadata": {},
   "outputs": [],
   "source": [
    "pattern_clean = re.compile(r\"[^ \\w]\") # pattern à utiliser pour nettoyer les données\n",
    "\n",
    "def clean(data): # TODO: améliorer la fonction\n",
    "    \"\"\"TODO: écrire la docstring\n",
    "\n",
    "    Args:\n",
    "        data (_type_): _description_\n",
    "\n",
    "    Returns:\n",
    "        _type_: _description_\n",
    "    \"\"\"\n",
    "    global pattern_clean\n",
    "    return re.sub(pattern_clean, \"\", data).lower()\n",
    "\n",
    "X_train_clean = [clean(x) for x in X_train]\n",
    "X_test_clean = [clean(x) for x in X_test]\n"
   ]
  },
  {
   "cell_type": "code",
   "execution_count": 92,
   "metadata": {},
   "outputs": [],
   "source": [
    "X_train_sample = X_train_clean[:500]\n",
    "y_train_sample = y_train[:500]\n",
    "X_test_sample = X_test_clean[:500]"
   ]
  },
  {
   "attachments": {},
   "cell_type": "markdown",
   "metadata": {},
   "source": [
    "# Extraction des features"
   ]
  },
  {
   "attachments": {},
   "cell_type": "markdown",
   "metadata": {},
   "source": [
    "`token_patternstr or None, default=r”(?u)\\b\\w\\w+\\b` pour countvectorizer en mettant la regex de grobol"
   ]
  },
  {
   "attachments": {},
   "cell_type": "markdown",
   "metadata": {},
   "source": [
    "## GloVe"
   ]
  },
  {
   "cell_type": "code",
   "execution_count": null,
   "metadata": {},
   "outputs": [],
   "source": []
  },
  {
   "attachments": {},
   "cell_type": "markdown",
   "metadata": {},
   "source": [
    "## Word2vec"
   ]
  },
  {
   "cell_type": "code",
   "execution_count": null,
   "metadata": {},
   "outputs": [],
   "source": []
  },
  {
   "attachments": {},
   "cell_type": "markdown",
   "metadata": {},
   "source": [
    "## FastText"
   ]
  },
  {
   "cell_type": "code",
   "execution_count": null,
   "metadata": {},
   "outputs": [],
   "source": []
  },
  {
   "attachments": {},
   "cell_type": "markdown",
   "metadata": {},
   "source": [
    "## Transformers personnalisés\n",
    "\n",
    "(nombre de mots par énoncé, nombre de phrases par énoncés)"
   ]
  },
  {
   "cell_type": "code",
   "execution_count": null,
   "metadata": {},
   "outputs": [],
   "source": []
  },
  {
   "attachments": {},
   "cell_type": "markdown",
   "metadata": {},
   "source": [
    "# Création des PipeLine\n",
    "\n",
    "on crée d'abord toutes les pipelines qu'on veut\n",
    "\n",
    "on aura une param_grid par pipeline"
   ]
  },
  {
   "cell_type": "code",
   "execution_count": null,
   "metadata": {},
   "outputs": [],
   "source": [
    "\n"
   ]
  },
  {
   "cell_type": "code",
   "execution_count": 93,
   "metadata": {},
   "outputs": [],
   "source": [
    "# named tuple Classifieur : \n",
    "# - pipeline\n",
    "# - param_grid pour le grid_search\n",
    "Classifieur = namedtuple('Classifieur', [\"pipeline\", \"param_grid\"]) #TODO : instancier le nom du classifieur pour que ça soit facile à récupérer après"
   ]
  },
  {
   "attachments": {},
   "cell_type": "markdown",
   "metadata": {},
   "source": [
    "## `LinearSVC()`"
   ]
  },
  {
   "attachments": {},
   "cell_type": "markdown",
   "metadata": {},
   "source": [
    "```python\n",
    "    \"svm__dual\":(True,False), # algorithme de décision (incompatible avec penalty l1)\n",
    "```"
   ]
  },
  {
   "cell_type": "code",
   "execution_count": 94,
   "metadata": {},
   "outputs": [],
   "source": [
    "# liste de tuples nommés Classifieur(pipeline, param_grid)\n",
    "liste_clfs = []\n",
    "\n",
    "pipeline_svm = Pipeline([\n",
    "        ('ngram_tf_idf', Pipeline([\n",
    "          ('counts', CountVectorizer()),\n",
    "          ('tf_idf', TfidfTransformer())\n",
    "        ])),\n",
    "  #('standard', StandardScaler(with_mean=False)),\n",
    "  ('svm', SVC(kernel=\"linear\",probability=True))])\n",
    "\n",
    "param_grid_svm = {\n",
    "    \"ngram_tf_idf__counts__max_df\": (0.2, 0.4, 0.6, 0.8, 1.0), # fréquence maximum auquel il s'arrête\n",
    "    \"ngram_tf_idf__counts__min_df\": (1,5, 10), # fréquence minimum\n",
    "    #\"ngram_tf_idf__counts__ngram_range\": ((1, 1), (1, 2),(2,2)),  # unigrams or bigrams\n",
    "    #\"ngram_tf_idf__counts__stop_words\":('french',None), #TODO: pas de french : utiliser la liste de spacy ou nltk\n",
    "    \"ngram_tf_idf__tf_idf__use_idf\":(True,False)\n",
    "    #\"clf__penalty\": ('l1','l2'),\n",
    "    #\"svm__C\":(0.1,0.5,1.0,1.5) # complexité du modèle\n",
    "    }\n",
    "\n",
    "svm = Classifieur(pipeline_svm, param_grid_svm)\n",
    "liste_clfs.append(svm)"
   ]
  },
  {
   "attachments": {},
   "cell_type": "markdown",
   "metadata": {},
   "source": [
    "# Recherche de la meilleure pipeline\n",
    "\n",
    "on a toutes nos pipelines dans une liste et on fait une boucle pour obtenir le dataframe avec les cv_results_ de toutes les pipeline\n",
    "\n",
    "on concatène tous les df et on sort_values sur \"mean_test_score\""
   ]
  },
  {
   "cell_type": "code",
   "execution_count": 95,
   "metadata": {},
   "outputs": [
    {
     "data": {
      "text/plain": [
       "[GridSearchCV(estimator=Pipeline(steps=[('ngram_tf_idf',\n",
       "                                         Pipeline(steps=[('counts',\n",
       "                                                          CountVectorizer()),\n",
       "                                                         ('tf_idf',\n",
       "                                                          TfidfTransformer())])),\n",
       "                                        ('svm',\n",
       "                                         SVC(kernel='linear',\n",
       "                                             probability=True))]),\n",
       "              param_grid={'ngram_tf_idf__counts__max_df': (0.2, 0.4, 0.6, 0.8,\n",
       "                                                           1.0),\n",
       "                          'ngram_tf_idf__counts__min_df': (1, 5, 10),\n",
       "                          'ngram_tf_idf__tf_idf__use_idf': (True, False)})]"
      ]
     },
     "execution_count": 95,
     "metadata": {},
     "output_type": "execute_result"
    }
   ],
   "source": [
    "best_models = []\n",
    "\n",
    "for (pipeline, param_grid) in liste_clfs:\n",
    "    grid_search = GridSearchCV(pipeline, param_grid=param_grid)\n",
    "    estimator = grid_search.fit(X_train_sample, y_train_sample)\n",
    "    best_models.append(estimator)\n",
    "    \n",
    "best_models"
   ]
  },
  {
   "cell_type": "markdown",
   "metadata": {},
   "source": []
  },
  {
   "attachments": {},
   "cell_type": "markdown",
   "metadata": {},
   "source": [
    "# Visualisation des résultats"
   ]
  },
  {
   "attachments": {},
   "cell_type": "markdown",
   "metadata": {},
   "source": [
    "- `predict_proba` donne une liste de probabilité\n",
    "- `clf.classes_` donne les étiquettes des classes (pour qu'on récupère l'ordre)\n",
    "\n",
    "Les colonnes qu'on veut dans notre dataframe récapitulatif : \n",
    "\n",
    "- le nom du classifieur\n",
    "- `estimator.best_params_` = les paramètres sous forme de dictionnaire du meilleur modèle trouvé avec le gridsearch\n",
    "- `estimator.best_estimator_` = la pipeline du meilleur modèle\n",
    "- `estimator.best_score_` = le mean_test_score du meilleur modèle trouvé avec le gridsearch\n"
   ]
  },
  {
   "cell_type": "code",
   "execution_count": 96,
   "metadata": {},
   "outputs": [
    {
     "data": {
      "text/html": [
       "<style>#sk-container-id-7 {color: black;background-color: white;}#sk-container-id-7 pre{padding: 0;}#sk-container-id-7 div.sk-toggleable {background-color: white;}#sk-container-id-7 label.sk-toggleable__label {cursor: pointer;display: block;width: 100%;margin-bottom: 0;padding: 0.3em;box-sizing: border-box;text-align: center;}#sk-container-id-7 label.sk-toggleable__label-arrow:before {content: \"▸\";float: left;margin-right: 0.25em;color: #696969;}#sk-container-id-7 label.sk-toggleable__label-arrow:hover:before {color: black;}#sk-container-id-7 div.sk-estimator:hover label.sk-toggleable__label-arrow:before {color: black;}#sk-container-id-7 div.sk-toggleable__content {max-height: 0;max-width: 0;overflow: hidden;text-align: left;background-color: #f0f8ff;}#sk-container-id-7 div.sk-toggleable__content pre {margin: 0.2em;color: black;border-radius: 0.25em;background-color: #f0f8ff;}#sk-container-id-7 input.sk-toggleable__control:checked~div.sk-toggleable__content {max-height: 200px;max-width: 100%;overflow: auto;}#sk-container-id-7 input.sk-toggleable__control:checked~label.sk-toggleable__label-arrow:before {content: \"▾\";}#sk-container-id-7 div.sk-estimator input.sk-toggleable__control:checked~label.sk-toggleable__label {background-color: #d4ebff;}#sk-container-id-7 div.sk-label input.sk-toggleable__control:checked~label.sk-toggleable__label {background-color: #d4ebff;}#sk-container-id-7 input.sk-hidden--visually {border: 0;clip: rect(1px 1px 1px 1px);clip: rect(1px, 1px, 1px, 1px);height: 1px;margin: -1px;overflow: hidden;padding: 0;position: absolute;width: 1px;}#sk-container-id-7 div.sk-estimator {font-family: monospace;background-color: #f0f8ff;border: 1px dotted black;border-radius: 0.25em;box-sizing: border-box;margin-bottom: 0.5em;}#sk-container-id-7 div.sk-estimator:hover {background-color: #d4ebff;}#sk-container-id-7 div.sk-parallel-item::after {content: \"\";width: 100%;border-bottom: 1px solid gray;flex-grow: 1;}#sk-container-id-7 div.sk-label:hover label.sk-toggleable__label {background-color: #d4ebff;}#sk-container-id-7 div.sk-serial::before {content: \"\";position: absolute;border-left: 1px solid gray;box-sizing: border-box;top: 0;bottom: 0;left: 50%;z-index: 0;}#sk-container-id-7 div.sk-serial {display: flex;flex-direction: column;align-items: center;background-color: white;padding-right: 0.2em;padding-left: 0.2em;position: relative;}#sk-container-id-7 div.sk-item {position: relative;z-index: 1;}#sk-container-id-7 div.sk-parallel {display: flex;align-items: stretch;justify-content: center;background-color: white;position: relative;}#sk-container-id-7 div.sk-item::before, #sk-container-id-7 div.sk-parallel-item::before {content: \"\";position: absolute;border-left: 1px solid gray;box-sizing: border-box;top: 0;bottom: 0;left: 50%;z-index: -1;}#sk-container-id-7 div.sk-parallel-item {display: flex;flex-direction: column;z-index: 1;position: relative;background-color: white;}#sk-container-id-7 div.sk-parallel-item:first-child::after {align-self: flex-end;width: 50%;}#sk-container-id-7 div.sk-parallel-item:last-child::after {align-self: flex-start;width: 50%;}#sk-container-id-7 div.sk-parallel-item:only-child::after {width: 0;}#sk-container-id-7 div.sk-dashed-wrapped {border: 1px dashed gray;margin: 0 0.4em 0.5em 0.4em;box-sizing: border-box;padding-bottom: 0.4em;background-color: white;}#sk-container-id-7 div.sk-label label {font-family: monospace;font-weight: bold;display: inline-block;line-height: 1.2em;}#sk-container-id-7 div.sk-label-container {text-align: center;}#sk-container-id-7 div.sk-container {/* jupyter's `normalize.less` sets `[hidden] { display: none; }` but bootstrap.min.css set `[hidden] { display: none !important; }` so we also need the `!important` here to be able to override the default hidden behavior on the sphinx rendered scikit-learn.org. See: https://github.com/scikit-learn/scikit-learn/issues/21755 */display: inline-block !important;position: relative;}#sk-container-id-7 div.sk-text-repr-fallback {display: none;}</style><div id=\"sk-container-id-7\" class=\"sk-top-container\"><div class=\"sk-text-repr-fallback\"><pre>Pipeline(steps=[(&#x27;ngram_tf_idf&#x27;,\n",
       "                 Pipeline(steps=[(&#x27;counts&#x27;,\n",
       "                                  CountVectorizer(max_df=0.2, min_df=10)),\n",
       "                                 (&#x27;tf_idf&#x27;, TfidfTransformer(use_idf=False))])),\n",
       "                (&#x27;svm&#x27;, SVC(kernel=&#x27;linear&#x27;, probability=True))])</pre><b>In a Jupyter environment, please rerun this cell to show the HTML representation or trust the notebook. <br />On GitHub, the HTML representation is unable to render, please try loading this page with nbviewer.org.</b></div><div class=\"sk-container\" hidden><div class=\"sk-item sk-dashed-wrapped\"><div class=\"sk-label-container\"><div class=\"sk-label sk-toggleable\"><input class=\"sk-toggleable__control sk-hidden--visually\" id=\"sk-estimator-id-31\" type=\"checkbox\" ><label for=\"sk-estimator-id-31\" class=\"sk-toggleable__label sk-toggleable__label-arrow\">Pipeline</label><div class=\"sk-toggleable__content\"><pre>Pipeline(steps=[(&#x27;ngram_tf_idf&#x27;,\n",
       "                 Pipeline(steps=[(&#x27;counts&#x27;,\n",
       "                                  CountVectorizer(max_df=0.2, min_df=10)),\n",
       "                                 (&#x27;tf_idf&#x27;, TfidfTransformer(use_idf=False))])),\n",
       "                (&#x27;svm&#x27;, SVC(kernel=&#x27;linear&#x27;, probability=True))])</pre></div></div></div><div class=\"sk-serial\"><div class=\"sk-item\"><div class=\"sk-label-container\"><div class=\"sk-label sk-toggleable\"><input class=\"sk-toggleable__control sk-hidden--visually\" id=\"sk-estimator-id-32\" type=\"checkbox\" ><label for=\"sk-estimator-id-32\" class=\"sk-toggleable__label sk-toggleable__label-arrow\">ngram_tf_idf: Pipeline</label><div class=\"sk-toggleable__content\"><pre>Pipeline(steps=[(&#x27;counts&#x27;, CountVectorizer(max_df=0.2, min_df=10)),\n",
       "                (&#x27;tf_idf&#x27;, TfidfTransformer(use_idf=False))])</pre></div></div></div><div class=\"sk-serial\"><div class=\"sk-item\"><div class=\"sk-estimator sk-toggleable\"><input class=\"sk-toggleable__control sk-hidden--visually\" id=\"sk-estimator-id-33\" type=\"checkbox\" ><label for=\"sk-estimator-id-33\" class=\"sk-toggleable__label sk-toggleable__label-arrow\">CountVectorizer</label><div class=\"sk-toggleable__content\"><pre>CountVectorizer(max_df=0.2, min_df=10)</pre></div></div></div><div class=\"sk-item\"><div class=\"sk-estimator sk-toggleable\"><input class=\"sk-toggleable__control sk-hidden--visually\" id=\"sk-estimator-id-34\" type=\"checkbox\" ><label for=\"sk-estimator-id-34\" class=\"sk-toggleable__label sk-toggleable__label-arrow\">TfidfTransformer</label><div class=\"sk-toggleable__content\"><pre>TfidfTransformer(use_idf=False)</pre></div></div></div></div></div><div class=\"sk-item\"><div class=\"sk-estimator sk-toggleable\"><input class=\"sk-toggleable__control sk-hidden--visually\" id=\"sk-estimator-id-35\" type=\"checkbox\" ><label for=\"sk-estimator-id-35\" class=\"sk-toggleable__label sk-toggleable__label-arrow\">SVC</label><div class=\"sk-toggleable__content\"><pre>SVC(kernel=&#x27;linear&#x27;, probability=True)</pre></div></div></div></div></div></div></div>"
      ],
      "text/plain": [
       "Pipeline(steps=[('ngram_tf_idf',\n",
       "                 Pipeline(steps=[('counts',\n",
       "                                  CountVectorizer(max_df=0.2, min_df=10)),\n",
       "                                 ('tf_idf', TfidfTransformer(use_idf=False))])),\n",
       "                ('svm', SVC(kernel='linear', probability=True))])"
      ]
     },
     "execution_count": 96,
     "metadata": {},
     "output_type": "execute_result"
    }
   ],
   "source": [
    "best_models[0].best_estimator_"
   ]
  }
 ],
 "metadata": {
  "kernelspec": {
   "display_name": ".venvML",
   "language": "python",
   "name": "python3"
  },
  "language_info": {
   "codemirror_mode": {
    "name": "ipython",
    "version": 3
   },
   "file_extension": ".py",
   "mimetype": "text/x-python",
   "name": "python",
   "nbconvert_exporter": "python",
   "pygments_lexer": "ipython3",
   "version": "3.10.9"
  },
  "orig_nbformat": 4,
  "vscode": {
   "interpreter": {
    "hash": "7772623b82ed846feb46f5a96aa7fb44349f73638c006ae7e8cad2b5cbf66b21"
   }
  }
 },
 "nbformat": 4,
 "nbformat_minor": 2
}
