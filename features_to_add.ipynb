{
 "cells": [
  {
   "attachments": {},
   "cell_type": "markdown",
   "id": "a30683d5",
   "metadata": {},
   "source": [
    "# Looking for features\n",
    "\n",
    "- Les thèmes associés aux discours\n",
    "- L'analyse en sentiment\n",
    "- La longueur des phrases et la complexité du vocabulaire utilisé.\n"
   ]
  },
  {
   "attachments": {},
   "cell_type": "markdown",
   "id": "1bd8b202",
   "metadata": {},
   "source": [
    "# Importation des modules"
   ]
  },
  {
   "cell_type": "code",
   "execution_count": 26,
   "id": "0949e288",
   "metadata": {},
   "outputs": [],
   "source": [
    "###### modules pour le chargement des données depuis le XML ######\n",
    "import glob\n",
    "from lxml import etree\n",
    "from preTraitements.xml import get_X_Y_from_root\n",
    "from preTraitements.xml import get_tree_root_from_file\n",
    "\n",
    "###### modules pour la classification ######\n",
    "\n",
    "# modèles\n",
    "from sklearn.svm import LinearSVC, SVC\n",
    "\n",
    "# vectorisation\n",
    "from sklearn.feature_extraction.text import CountVectorizer\n",
    "from sklearn.feature_extraction.text import TfidfTransformer\n",
    "from sklearn.preprocessing import StandardScaler\n",
    "\n",
    "# création de nos transformers\n",
    "from sklearn.pipeline import Pipeline, FeatureUnion\n",
    "from sklearn.preprocessing import FunctionTransformer\n",
    "from sklearn.feature_extraction import DictVectorizer # créer nos propres transformer\n",
    "\n",
    "# recherche des meilleurs hyperparamètres\n",
    "from sklearn.model_selection import RandomizedSearchCV\n",
    "from sklearn.model_selection import GridSearchCV\n",
    "\n",
    "# résultats\n",
    "from sklearn.metrics import classification_report\n",
    "\n",
    "# sauvegarde des modèles\n",
    "from joblib import dump, load\n",
    "\n",
    "###### modules pour la visualisation ######\n",
    "import matplotlib.pyplot as plt\n",
    "import pandas as pd\n",
    "\n",
    "###### miscellaneous ######\n",
    "from typing import List # typage des fonctions\n",
    "import numpy as np\n",
    "import re\n",
    "from collections import namedtuple\n",
    "\n",
    "##### nltk #####\n",
    "from nltk.corpus import stopwords\n",
    "\n",
    "##### multi class #####\n",
    "from sklearn.multiclass import OneVsOneClassifier, OneVsRestClassifier"
   ]
  },
  {
   "attachments": {},
   "cell_type": "markdown",
   "id": "01199cd0",
   "metadata": {},
   "source": [
    "# Chargement des données"
   ]
  },
  {
   "cell_type": "code",
   "execution_count": 28,
   "id": "1e587943",
   "metadata": {},
   "outputs": [],
   "source": [
    "tree_train, root_train = get_tree_root_from_file(\"./corpus/train_deft09_parlement_appr.xml/deft09_parlement_appr_fr.xml\")\n",
    "X_train, y_train = get_X_Y_from_root(root_train)\n",
    "\n",
    "tree_test, root_test = get_tree_root_from_file(\"./corpus/deft09_parlement_test.xml/deft09_parlement_test_fr.xml\")\n",
    "X_test, y_test = get_X_Y_from_root(root_test) # y_test est vide : pas accès aux résultats"
   ]
  },
  {
   "cell_type": "code",
   "execution_count": 29,
   "id": "e46707e2",
   "metadata": {},
   "outputs": [],
   "source": [
    "pattern_clean = re.compile(r\"[^ \\w]\") # pattern à utiliser pour nettoyer les données\n",
    "\n",
    "def clean(data): # TODO: améliorer la fonction\n",
    "    global pattern_clean\n",
    "    return re.sub(pattern_clean, \"\", data).lower()\n",
    "\n",
    "X_train_clean = [clean(x) for x in X_train]\n",
    "X_test_clean = [clean(x) for x in X_test]\n"
   ]
  },
  {
   "cell_type": "code",
   "execution_count": 30,
   "id": "6c5ec14f",
   "metadata": {},
   "outputs": [],
   "source": [
    "import re\n",
    "pattern = re.compile(r'\\d+\\t(\\w+(-\\w+)?)')\n",
    "y_test = []\n",
    "with open(\"./corpus/deft09_parlement_ref/deft09_parlement_ref_fr.txt\",'r') as file:\n",
    "    line = file.readline()\n",
    "    while line:\n",
    "        m= re.match(pattern,line)\n",
    "        if m:\n",
    "            y_test.append(m.group(1))\n",
    "        else:\n",
    "            y_test.append('PSE')\n",
    "        line = file.readline()"
   ]
  },
  {
   "cell_type": "code",
   "execution_count": 31,
   "id": "360b0bff",
   "metadata": {},
   "outputs": [],
   "source": [
    "from sklearn.preprocessing import LabelEncoder\n",
    "\n",
    "# Créer un objet LabelBinarizer\n",
    "lb = LabelEncoder()\n",
    "\n",
    "# Convertir les étiquettes de classe en un tableau binaire\n",
    "y_train_bin = lb.fit_transform(y_train)\n",
    "y_test_bin = lb.fit_transform(y_test)"
   ]
  },
  {
   "attachments": {},
   "cell_type": "markdown",
   "id": "af2ae379",
   "metadata": {},
   "source": [
    "# Analyse de sentiments"
   ]
  },
  {
   "cell_type": "code",
   "execution_count": null,
   "id": "d108c1e1",
   "metadata": {},
   "outputs": [],
   "source": [
    "# échantillon pour tester plus rapidement\n",
    "\n",
    "X_train_sample = X_train[:100]\n",
    "y_train_sample = y_train[:100]\n",
    "X_test_sample = X_test[:100]"
   ]
  },
  {
   "cell_type": "code",
   "execution_count": null,
   "id": "56848efb",
   "metadata": {},
   "outputs": [],
   "source": [
    "# Chargez le modèle de transformer pré-entraîné\n",
    "sentiment_model = pipeline(\"sentiment-analysis\", \n",
    "                           model=\"nlptown/bert-base-multilingual-uncased-sentiment\") # uncased parce que ne prend pas en compte la casse"
   ]
  },
  {
   "cell_type": "code",
   "execution_count": null,
   "id": "ae2288f2",
   "metadata": {},
   "outputs": [],
   "source": [
    "def sentiment_pred(posts):\n",
    "    global sentiment_model\n",
    "    return sentiment_model(posts, truncation=True)"
   ]
  },
  {
   "cell_type": "code",
   "execution_count": null,
   "id": "dfeaa8da",
   "metadata": {},
   "outputs": [],
   "source": [
    "# Ajoutez les prédictions de sentiments à votre pipeline de classification de discours politiques\n",
    "\n",
    "pipeline_avec_sent = Pipeline([\n",
    "    ('features', FeatureUnion([\n",
    "        ('ngram_tf_idf', Pipeline([\n",
    "            ('counts', CountVectorizer()),\n",
    "            ('tf_idf', TfidfTransformer())\n",
    "        ])),\n",
    "        ('sentiments', Pipeline([\n",
    "          ('stats', FunctionTransformer(sentiment_pred)),\n",
    "          ('vect', DictVectorizer())\n",
    "        ]))\n",
    "    ])),\n",
    "    ('reglog', LogisticRegression())\n",
    "])\n",
    "\n",
    "# Entraînez le modèle de classification de discours politiques sur les données d'entraînement\n",
    "pipeline_avec_sent.fit(X_train_sample, y_train_sample)\n",
    "\n",
    "cv_scores_avec_sentiment = cross_val_score(pipeline_avec_sent, X_train_sample, y_train_sample)"
   ]
  },
  {
   "cell_type": "code",
   "execution_count": null,
   "id": "f48f1334",
   "metadata": {},
   "outputs": [],
   "source": [
    "print(np.mean(cv_scores_avec_sentiment))\n",
    "print(cv_scores_avec_sentiment)"
   ]
  },
  {
   "cell_type": "code",
   "execution_count": null,
   "id": "aabd1c22",
   "metadata": {},
   "outputs": [],
   "source": [
    "pipeline_sans_sent = Pipeline([\n",
    "    ('features', FeatureUnion([\n",
    "        ('ngram_tf_idf', Pipeline([\n",
    "            ('counts', CountVectorizer()),\n",
    "            ('tf_idf', TfidfTransformer())\n",
    "        ])),\n",
    "    ])),\n",
    "    ('reglog', LogisticRegression())\n",
    "])\n",
    "\n",
    "pipeline_sans_sent.fit(X_train_sample, y_train_sample)\n",
    "cv_scores_sans_sent = cross_val_score(pipeline_sans_sent, X_train_sample, y_train_sample)"
   ]
  },
  {
   "cell_type": "code",
   "execution_count": null,
   "id": "5261ff2d",
   "metadata": {},
   "outputs": [],
   "source": [
    "print(np.mean(cv_scores_sans_sent))\n",
    "print(cv_scores_sans_sent)"
   ]
  },
  {
   "attachments": {},
   "cell_type": "markdown",
   "id": "f7d0c21a",
   "metadata": {},
   "source": [
    "# Classification en thème"
   ]
  },
  {
   "cell_type": "code",
   "execution_count": null,
   "id": "f219e1fa",
   "metadata": {},
   "outputs": [],
   "source": [
    "theme_classifier = pipeline(\"zero-shot-classification\",\n",
    "                      model=\"BaptisteDoyen/camembert-base-xnli\")\n",
    "\n",
    "candidate_labels = [\"sport\", \n",
    "                    \"immigration\", \n",
    "                    \"économie\", \n",
    "                    \"sécurité\",\n",
    "                    \"justice\",\n",
    "                    \"science\", \n",
    "                    \"féminisme\", \n",
    "                    \"culture\", \n",
    "                    \"écologie\", \n",
    "                    \"climat\",\n",
    "                    \"fiscalité\",\n",
    "                    \"animal\",\n",
    "                    \"social\",\n",
    "                    \"agriculture\",\n",
    "                    \"santé\",\n",
    "                    \"travail\",\n",
    "                    \"racisme\"]\n",
    "#hypothesis_template = \"Ce texte parle de {}.\" # on peut peut-être utiliser ça pour renvoyer un dico\n",
    "\n",
    "def theme_predictor(texts):\n",
    "  \"\"\"\n",
    "  Prédire les thèmes dominants des textes donnés en utilisant un modèle de type \"zero-shot\" : BaptisteDoyen/camembert-base-xnli\n",
    "  \n",
    "  Parameters:\n",
    "  texts (list): une liste de chaînes de caractères contenant les textes à classifier.\n",
    "  \n",
    "  Returns:\n",
    "  list: une liste de dictionnaires, où chaque dictionnaire contient une entrée (thème, score) pour chaque thème prédit avec son score associé.\n",
    "  \"\"\"\n",
    "  global theme_classifier\n",
    "  global candidate_labels\n",
    "  \n",
    "  results = []\n",
    "  for text in texts:\n",
    "    classification = theme_classifier(text, candidate_labels)\n",
    "    labels = classification[\"labels\"]\n",
    "    scores = classification[\"scores\"]\n",
    "    results.append({label:score for label, score in zip(labels, scores)})\n",
    "      \n",
    "  return results"
   ]
  },
  {
   "cell_type": "code",
   "execution_count": null,
   "id": "272a7738",
   "metadata": {},
   "outputs": [],
   "source": [
    "# Ajoutez les prédictions de thèmes à votre pipeline de classification de discours politiques\n",
    "\n",
    "pipeline_avec_theme = Pipeline([\n",
    "    ('features', FeatureUnion([\n",
    "        ('ngram_tf_idf', Pipeline([\n",
    "            ('counts', CountVectorizer()),\n",
    "            ('tf_idf', TfidfTransformer())\n",
    "        ])),\n",
    "        ('sentiments', Pipeline([\n",
    "          ('stats', FunctionTransformer(theme_predictor)),\n",
    "          ('vect', DictVectorizer())\n",
    "        ]))\n",
    "    ])),\n",
    "    ('linearsvc', LinearSVC())\n",
    "])\n",
    "\n",
    "# Entraînez le modèle de classification de discours politiques sur les données d'entraînement\n",
    "#pipeline_avec_theme.fit(X_train_sample, y_train_sample)\n",
    "\n",
    "cv_avec_theme = cross_val_score(pipeline_avec_theme, X_train_sample, y_train_sample, verbose=10)"
   ]
  },
  {
   "cell_type": "code",
   "execution_count": null,
   "id": "76011b3d",
   "metadata": {},
   "outputs": [],
   "source": [
    "print(np.mean(cv_avec_theme))\n",
    "print(cv_avec_theme)"
   ]
  },
  {
   "cell_type": "code",
   "execution_count": null,
   "id": "9d676831",
   "metadata": {},
   "outputs": [],
   "source": [
    "pipeline_sans_theme = Pipeline([\n",
    "    ('features', FeatureUnion([\n",
    "        ('ngram_tf_idf', Pipeline([\n",
    "            ('counts', CountVectorizer()),\n",
    "            ('tf_idf', TfidfTransformer())\n",
    "        ])),\n",
    "    ])),\n",
    "    ('reglog', LogisticRegression())\n",
    "])\n",
    "\n",
    "# Entraînez le modèle de classification de discours politiques sur les données d'entraînement\n",
    "#pipeline_sans_theme.fit(X_train_sample, y_train_sample)\n",
    "\n",
    "cv_sans_theme = cross_val_score(pipeline_sans_theme, X_train_sample, y_train_sample, verbose=10)"
   ]
  },
  {
   "cell_type": "code",
   "execution_count": null,
   "id": "51de524c",
   "metadata": {},
   "outputs": [],
   "source": [
    "print(np.mean(cv_sans_theme))\n",
    "print(cv_sans_theme)"
   ]
  },
  {
   "attachments": {},
   "cell_type": "markdown",
   "id": "8587059b",
   "metadata": {},
   "source": [
    "# Complexité du vocabulaire"
   ]
  },
  {
   "cell_type": "code",
   "execution_count": null,
   "id": "f2e62d17",
   "metadata": {},
   "outputs": [],
   "source": [
    "from collections import defaultdict\n",
    "from nltk.tokenize import word_tokenize\n",
    "from nltk.corpus import stopwords\n",
    "import string\n",
    "\n",
    "# return : liste de dictionnaire où chaque dictionnaire -> complexité du vocabulaire.\n",
    "def calculate_vocab_complexity(post):\n",
    "    liste_finale = []\n",
    "    # Créer un set pour stocker les mots uniques\n",
    "    unique_words = set()\n",
    "\n",
    "    # Pour chaque phrase, ajouter les mots uniques au set\n",
    "    for phrases in post:\n",
    "        vocab_complexity = {}\n",
    "        for phrase in phrases.split():\n",
    "            words = word_tokenize(phrase)\n",
    "            for word in words:\n",
    "                unique_words.add(word)\n",
    "\n",
    "        # Compter le nombre total de mots\n",
    "        total_word_count = 0\n",
    "        for phrase in phrases:\n",
    "            total_word_count += len(word_tokenize(phrase))\n",
    "\n",
    "        # Calculer la complexité du vocabulaire en divisant le nombre de mots uniques par le nombre total de mots\n",
    "        vocab_complexity[\"complexity\"] = len(unique_words) / total_word_count\n",
    "        liste_finale.append(vocab_complexity)\n",
    "    return liste_finale\n"
   ]
  }
 ],
 "metadata": {
  "kernelspec": {
   "display_name": "Python 3",
   "language": "python",
   "name": "python3"
  },
  "language_info": {
   "codemirror_mode": {
    "name": "ipython",
    "version": 3
   },
   "file_extension": ".py",
   "mimetype": "text/x-python",
   "name": "python",
   "nbconvert_exporter": "python",
   "pygments_lexer": "ipython3",
   "version": "3.10.4 (tags/v3.10.4:9d38120, Mar 23 2022, 23:13:41) [MSC v.1929 64 bit (AMD64)]"
  },
  "vscode": {
   "interpreter": {
    "hash": "0ff010205904bfe3eee581ff58f8f0b99bd85f9d9a45393812156d4e4d4c6c03"
   }
  }
 },
 "nbformat": 4,
 "nbformat_minor": 5
}
