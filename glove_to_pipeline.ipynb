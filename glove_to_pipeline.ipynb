{
 "cells": [
  {
   "cell_type": "code",
   "execution_count": 1,
   "id": "313f9d57",
   "metadata": {},
   "outputs": [],
   "source": [
    "## Package\n",
    "import glob\n",
    "import pandas as pd\n",
    "import matplotlib.pyplot as plt\n",
    "import numpy as np\n",
    "from typing import List\n",
    "from lxml import etree\n",
    "from preTraitements.xml import get_X_Y_from_root\n",
    "from preTraitements.xml import get_tree_root_from_file\n",
    "from sklearn.preprocessing import FunctionTransformer\n",
    "from sklearn.svm import LinearSVC\n",
    "from sklearn.pipeline import Pipeline, FeatureUnion\n",
    "from sklearn.model_selection import RandomizedSearchCV\n",
    "from sklearn.model_selection import GridSearchCV\n",
    "from sklearn.feature_extraction.text import CountVectorizer\n",
    "from sklearn.feature_extraction.text import TfidfTransformer\n",
    "from sklearn.preprocessing import StandardScaler\n",
    "import os"
   ]
  },
  {
   "cell_type": "code",
   "execution_count": 2,
   "id": "126b5ecb",
   "metadata": {},
   "outputs": [],
   "source": [
    "import re\n",
    "vector = {}\n",
    "pattern = re.compile(r\"(\\w+).+\")\n",
    "with open(\"vectors.txt\",'r',encoding=\"utf-8\") as file:\n",
    "    line = file.readline()\n",
    "    while line:\n",
    "        m=re.match(pattern,line)\n",
    "        #print(line[len(m.group(1)):].split())\n",
    "        if m:\n",
    "            vector[m.group(1)]=line[len(m.group(1)):].split()\n",
    "        line = file.readline()\n"
   ]
  },
  {
   "cell_type": "code",
   "execution_count": 3,
   "id": "05e362de",
   "metadata": {},
   "outputs": [],
   "source": [
    "tree_train, root_train = get_tree_root_from_file(\"./corpus/train_deft09_parlement_appr.xml/deft09_parlement_appr_fr.xml\")\n",
    "X_train, y_train = get_X_Y_from_root(root_train)\n",
    "\n",
    "tree_test, root_test = get_tree_root_from_file(\"./corpus/deft09_parlement_test.xml/deft09_parlement_test_fr.xml\")\n",
    "X_test, y_test = get_X_Y_from_root(root_test)"
   ]
  },
  {
   "cell_type": "code",
   "execution_count": 276,
   "id": "2454cdce",
   "metadata": {},
   "outputs": [],
   "source": [
    "X_train_sample = X_train[:1]\n",
    "y_train_sample = y_train[:1]"
   ]
  },
  {
   "cell_type": "code",
   "execution_count": 5,
   "id": "00ede2a1",
   "metadata": {},
   "outputs": [],
   "source": [
    "# Global parameters\n",
    "#root folder\n",
    "root_folder='.'\n",
    "glove_filename='vectors.txt'\n",
    "\n",
    "# Variable for data directory\n",
    "glove_path = os.path.abspath(glove_filename)\n"
   ]
  },
  {
   "cell_type": "code",
   "execution_count": 6,
   "id": "9edab8a1",
   "metadata": {},
   "outputs": [
    {
     "name": "stderr",
     "output_type": "stream",
     "text": [
      "/tmp/ipykernel_221/3652708010.py:7: DeprecationWarning: Call to deprecated `glove2word2vec` (KeyedVectors.load_word2vec_format(.., binary=False, no_header=True) loads GLoVE text vectors.).\n",
      "  glove2word2vec(glove_path, word2vec_output_file)\n"
     ]
    },
    {
     "data": {
      "text/plain": [
       "(41153, 50)"
      ]
     },
     "execution_count": 6,
     "metadata": {},
     "output_type": "execute_result"
    }
   ],
   "source": [
    "# We just need to run this code once, the function glove2word2vec saves the Glove embeddings in the word2vec format \n",
    "# that will be loaded in the next section\n",
    "from gensim.scripts.glove2word2vec import glove2word2vec\n",
    "glove_filename='vectors.txt'\n",
    "#glove_input_file = glove_filename\n",
    "word2vec_output_file = glove_filename+'.word2vec'\n",
    "glove2word2vec(glove_path, word2vec_output_file)"
   ]
  },
  {
   "cell_type": "code",
   "execution_count": 7,
   "id": "20e725fe",
   "metadata": {},
   "outputs": [],
   "source": [
    "from gensim.models import KeyedVectors\n",
    "word2vec_output_file = glove_filename+'.word2vec'\n",
    "glove = KeyedVectors.load_word2vec_format(word2vec_output_file, binary=False)"
   ]
  },
  {
   "cell_type": "code",
   "execution_count": 167,
   "id": "d5bf516e",
   "metadata": {},
   "outputs": [
    {
     "name": "stdout",
     "output_type": "stream",
     "text": [
      "Madame:  [ 0.013859  0.451532 -0.487101  0.168849 -0.327894  0.146996 -0.224299\n",
      " -0.178038 -0.070914 -0.51272  -0.421458 -0.469794 -0.545544  0.139949\n",
      " -0.006503 -0.140751  0.333008 -0.048612  0.200209  0.376872  0.138722\n",
      " -0.271306  0.140596  0.33297   0.664384  0.201292 -0.005523 -0.746854\n",
      " -0.041821 -0.062128 -0.132737 -0.275511  0.495469  0.177609 -0.082183\n",
      " -0.180198  0.092252  0.044848  0.353179  0.449488 -0.322928 -0.258066\n",
      " -0.727073  0.10923   0.008607  0.232664  0.044286  0.068772  0.311111\n",
      "  0.15182 ]\n"
     ]
    }
   ],
   "source": [
    "#Show a word embedding\n",
    "print('Madame: ',glove.get_vector('madame'))"
   ]
  },
  {
   "cell_type": "code",
   "execution_count": 293,
   "id": "fa748ff6",
   "metadata": {},
   "outputs": [],
   "source": [
    "#remplace un CountVectorizer()\n",
    "def GloveVectorizer(X_train):\n",
    "    model = glove\n",
    "    n=0\n",
    "    m = glove.get_vector('président')\n",
    "    #docs = {}\n",
    "    docs = np.zeros((len(X_train),m.shape[0]))\n",
    "    for document in X_train:\n",
    "        word_vectors=[]\n",
    "        for token in document.split():\n",
    "            if token in model:\n",
    "                word_vectors.append(model[token])\n",
    "        if len(word_vectors)>0:\n",
    "            word_vectors = np.array(word_vectors)\n",
    "            print(np.array(word_vectors))\n",
    "            docs[n]=word_vectors.mean(axis=0)\n",
    "            print(docs[n])\n",
    "        n=n+1\n",
    "    return docs"
   ]
  },
  {
   "cell_type": "code",
   "execution_count": 294,
   "id": "9e85d2ea",
   "metadata": {},
   "outputs": [
    {
     "name": "stdout",
     "output_type": "stream",
     "text": [
      "[[-0.531231 -0.708816 -0.114237 ...  0.576635 -0.930365 -0.731844]\n",
      " [-0.320647 -0.258935 -0.583948 ...  0.525978 -1.136862 -0.266057]\n",
      " [-0.61792  -0.193781 -0.248724 ...  0.322474 -0.845926 -0.831415]\n",
      " ...\n",
      " [-0.141048  0.359355 -0.612708 ... -0.374679  0.125947  0.22027 ]\n",
      " [ 0.053538  0.243089  0.213892 ...  0.069623 -1.446567  0.070551]\n",
      " [-0.571903 -0.12516  -1.228226 ...  1.142751 -1.138536 -0.755584]]\n",
      "[ 0.01528353 -0.17387539 -0.04330047  0.15780458  0.62494183  0.64479375\n",
      "  0.00526036 -0.63278937  0.7071436   0.44991535  0.34993812 -0.03328431\n",
      "  0.18640304  0.07692374 -0.00927639 -0.27934754 -0.71318609 -0.15461557\n",
      " -0.07641554  0.27266151 -0.13817562  0.813187   -0.42138663  0.09191747\n",
      " -0.58466172  0.03370244 -0.11750077  0.78793919 -0.31851864 -0.28415084\n",
      "  0.24724312  1.36462593  0.07918341 -0.42685422  0.11637811 -0.16698672\n",
      "  0.03501559 -0.02045711  0.22413215 -0.50469184  0.42869824  0.2786687\n",
      "  0.15111926  0.06130914 -0.34547037  0.3875843  -0.00580706  0.27416426\n",
      " -0.94076514 -0.25462666]\n"
     ]
    }
   ],
   "source": [
    "X_vect = GloveVectorizer(X_train_sample)"
   ]
  },
  {
   "cell_type": "code",
   "execution_count": 298,
   "id": "ac6f41dd",
   "metadata": {},
   "outputs": [
    {
     "data": {
      "text/plain": [
       "0.015283526852726936"
      ]
     },
     "execution_count": 298,
     "metadata": {},
     "output_type": "execute_result"
    }
   ],
   "source": [
    "X_vect[0][0]"
   ]
  },
  {
   "cell_type": "code",
   "execution_count": 242,
   "id": "6ed34704",
   "metadata": {},
   "outputs": [
    {
     "data": {
      "text/plain": [
       "(500, 50)"
      ]
     },
     "execution_count": 242,
     "metadata": {},
     "output_type": "execute_result"
    }
   ],
   "source": [
    "X_vect.shape"
   ]
  },
  {
   "cell_type": "code",
   "execution_count": 264,
   "id": "35365123",
   "metadata": {},
   "outputs": [],
   "source": [
    "v = GloveVectorizer(X_train_sample)"
   ]
  },
  {
   "cell_type": "code",
   "execution_count": 265,
   "id": "20e32c63",
   "metadata": {},
   "outputs": [],
   "source": [
    "clf = LinearSVC()\n",
    "mod = clf.fit(X_vect,y_train_sample)"
   ]
  },
  {
   "cell_type": "code",
   "execution_count": 266,
   "id": "c70c03a4",
   "metadata": {},
   "outputs": [],
   "source": [
    "test_x_ok = GloveVectorizer(X_test)"
   ]
  },
  {
   "cell_type": "code",
   "execution_count": 267,
   "id": "14bd8204",
   "metadata": {},
   "outputs": [],
   "source": [
    "y_pred = mod.predict(test_x_ok)"
   ]
  },
  {
   "cell_type": "code",
   "execution_count": 271,
   "id": "9839fab1",
   "metadata": {},
   "outputs": [
    {
     "name": "stdout",
     "output_type": "stream",
     "text": [
      "0.448\n"
     ]
    }
   ],
   "source": [
    "print(clf.score(X_vect,y_train_sample))"
   ]
  },
  {
   "cell_type": "code",
   "execution_count": 272,
   "id": "a623c19d",
   "metadata": {},
   "outputs": [
    {
     "data": {
      "text/html": [
       "<style>#sk-container-id-20 {color: black;background-color: white;}#sk-container-id-20 pre{padding: 0;}#sk-container-id-20 div.sk-toggleable {background-color: white;}#sk-container-id-20 label.sk-toggleable__label {cursor: pointer;display: block;width: 100%;margin-bottom: 0;padding: 0.3em;box-sizing: border-box;text-align: center;}#sk-container-id-20 label.sk-toggleable__label-arrow:before {content: \"▸\";float: left;margin-right: 0.25em;color: #696969;}#sk-container-id-20 label.sk-toggleable__label-arrow:hover:before {color: black;}#sk-container-id-20 div.sk-estimator:hover label.sk-toggleable__label-arrow:before {color: black;}#sk-container-id-20 div.sk-toggleable__content {max-height: 0;max-width: 0;overflow: hidden;text-align: left;background-color: #f0f8ff;}#sk-container-id-20 div.sk-toggleable__content pre {margin: 0.2em;color: black;border-radius: 0.25em;background-color: #f0f8ff;}#sk-container-id-20 input.sk-toggleable__control:checked~div.sk-toggleable__content {max-height: 200px;max-width: 100%;overflow: auto;}#sk-container-id-20 input.sk-toggleable__control:checked~label.sk-toggleable__label-arrow:before {content: \"▾\";}#sk-container-id-20 div.sk-estimator input.sk-toggleable__control:checked~label.sk-toggleable__label {background-color: #d4ebff;}#sk-container-id-20 div.sk-label input.sk-toggleable__control:checked~label.sk-toggleable__label {background-color: #d4ebff;}#sk-container-id-20 input.sk-hidden--visually {border: 0;clip: rect(1px 1px 1px 1px);clip: rect(1px, 1px, 1px, 1px);height: 1px;margin: -1px;overflow: hidden;padding: 0;position: absolute;width: 1px;}#sk-container-id-20 div.sk-estimator {font-family: monospace;background-color: #f0f8ff;border: 1px dotted black;border-radius: 0.25em;box-sizing: border-box;margin-bottom: 0.5em;}#sk-container-id-20 div.sk-estimator:hover {background-color: #d4ebff;}#sk-container-id-20 div.sk-parallel-item::after {content: \"\";width: 100%;border-bottom: 1px solid gray;flex-grow: 1;}#sk-container-id-20 div.sk-label:hover label.sk-toggleable__label {background-color: #d4ebff;}#sk-container-id-20 div.sk-serial::before {content: \"\";position: absolute;border-left: 1px solid gray;box-sizing: border-box;top: 0;bottom: 0;left: 50%;z-index: 0;}#sk-container-id-20 div.sk-serial {display: flex;flex-direction: column;align-items: center;background-color: white;padding-right: 0.2em;padding-left: 0.2em;position: relative;}#sk-container-id-20 div.sk-item {position: relative;z-index: 1;}#sk-container-id-20 div.sk-parallel {display: flex;align-items: stretch;justify-content: center;background-color: white;position: relative;}#sk-container-id-20 div.sk-item::before, #sk-container-id-20 div.sk-parallel-item::before {content: \"\";position: absolute;border-left: 1px solid gray;box-sizing: border-box;top: 0;bottom: 0;left: 50%;z-index: -1;}#sk-container-id-20 div.sk-parallel-item {display: flex;flex-direction: column;z-index: 1;position: relative;background-color: white;}#sk-container-id-20 div.sk-parallel-item:first-child::after {align-self: flex-end;width: 50%;}#sk-container-id-20 div.sk-parallel-item:last-child::after {align-self: flex-start;width: 50%;}#sk-container-id-20 div.sk-parallel-item:only-child::after {width: 0;}#sk-container-id-20 div.sk-dashed-wrapped {border: 1px dashed gray;margin: 0 0.4em 0.5em 0.4em;box-sizing: border-box;padding-bottom: 0.4em;background-color: white;}#sk-container-id-20 div.sk-label label {font-family: monospace;font-weight: bold;display: inline-block;line-height: 1.2em;}#sk-container-id-20 div.sk-label-container {text-align: center;}#sk-container-id-20 div.sk-container {/* jupyter's `normalize.less` sets `[hidden] { display: none; }` but bootstrap.min.css set `[hidden] { display: none !important; }` so we also need the `!important` here to be able to override the default hidden behavior on the sphinx rendered scikit-learn.org. See: https://github.com/scikit-learn/scikit-learn/issues/21755 */display: inline-block !important;position: relative;}#sk-container-id-20 div.sk-text-repr-fallback {display: none;}</style><div id=\"sk-container-id-20\" class=\"sk-top-container\"><div class=\"sk-text-repr-fallback\"><pre>Pipeline(steps=[(&#x27;glove_vect&#x27;,\n",
       "                 FunctionTransformer(func=&lt;function GloveVectorizer at 0x7ffa88cb2b80&gt;)),\n",
       "                (&#x27;clf&#x27;, SVC(kernel=&#x27;linear&#x27;, probability=True))])</pre><b>In a Jupyter environment, please rerun this cell to show the HTML representation or trust the notebook. <br />On GitHub, the HTML representation is unable to render, please try loading this page with nbviewer.org.</b></div><div class=\"sk-container\" hidden><div class=\"sk-item sk-dashed-wrapped\"><div class=\"sk-label-container\"><div class=\"sk-label sk-toggleable\"><input class=\"sk-toggleable__control sk-hidden--visually\" id=\"sk-estimator-id-60\" type=\"checkbox\" ><label for=\"sk-estimator-id-60\" class=\"sk-toggleable__label sk-toggleable__label-arrow\">Pipeline</label><div class=\"sk-toggleable__content\"><pre>Pipeline(steps=[(&#x27;glove_vect&#x27;,\n",
       "                 FunctionTransformer(func=&lt;function GloveVectorizer at 0x7ffa88cb2b80&gt;)),\n",
       "                (&#x27;clf&#x27;, SVC(kernel=&#x27;linear&#x27;, probability=True))])</pre></div></div></div><div class=\"sk-serial\"><div class=\"sk-item\"><div class=\"sk-estimator sk-toggleable\"><input class=\"sk-toggleable__control sk-hidden--visually\" id=\"sk-estimator-id-61\" type=\"checkbox\" ><label for=\"sk-estimator-id-61\" class=\"sk-toggleable__label sk-toggleable__label-arrow\">FunctionTransformer</label><div class=\"sk-toggleable__content\"><pre>FunctionTransformer(func=&lt;function GloveVectorizer at 0x7ffa88cb2b80&gt;)</pre></div></div></div><div class=\"sk-item\"><div class=\"sk-estimator sk-toggleable\"><input class=\"sk-toggleable__control sk-hidden--visually\" id=\"sk-estimator-id-62\" type=\"checkbox\" ><label for=\"sk-estimator-id-62\" class=\"sk-toggleable__label sk-toggleable__label-arrow\">SVC</label><div class=\"sk-toggleable__content\"><pre>SVC(kernel=&#x27;linear&#x27;, probability=True)</pre></div></div></div></div></div></div></div>"
      ],
      "text/plain": [
       "Pipeline(steps=[('glove_vect',\n",
       "                 FunctionTransformer(func=<function GloveVectorizer at 0x7ffa88cb2b80>)),\n",
       "                ('clf', SVC(kernel='linear', probability=True))])"
      ]
     },
     "execution_count": 272,
     "metadata": {},
     "output_type": "execute_result"
    }
   ],
   "source": [
    "###pipeline ??? \n",
    "from sklearn.feature_extraction import DictVectorizer\n",
    "from nltk.classify.scikitlearn import SklearnClassifier\n",
    "from sklearn.svm import LinearSVC, SVC\n",
    "LinearSVC_classifier = SklearnClassifier(SVC(kernel='linear',probability=True))\n",
    "svm = SVC(\n",
    "        kernel=\"linear\",probability=True\n",
    "    )\n",
    "\n",
    "pipeline = Pipeline([\n",
    "    ('glove_vect',FunctionTransformer(GloveVectorizer)),\n",
    "    #('vect',DictVectorizer()),\n",
    "    ('clf',svm)\n",
    "])\n",
    "\n",
    "pipeline"
   ]
  },
  {
   "cell_type": "code",
   "execution_count": 273,
   "id": "72cb911f",
   "metadata": {},
   "outputs": [
    {
     "data": {
      "text/html": [
       "<style>#sk-container-id-21 {color: black;background-color: white;}#sk-container-id-21 pre{padding: 0;}#sk-container-id-21 div.sk-toggleable {background-color: white;}#sk-container-id-21 label.sk-toggleable__label {cursor: pointer;display: block;width: 100%;margin-bottom: 0;padding: 0.3em;box-sizing: border-box;text-align: center;}#sk-container-id-21 label.sk-toggleable__label-arrow:before {content: \"▸\";float: left;margin-right: 0.25em;color: #696969;}#sk-container-id-21 label.sk-toggleable__label-arrow:hover:before {color: black;}#sk-container-id-21 div.sk-estimator:hover label.sk-toggleable__label-arrow:before {color: black;}#sk-container-id-21 div.sk-toggleable__content {max-height: 0;max-width: 0;overflow: hidden;text-align: left;background-color: #f0f8ff;}#sk-container-id-21 div.sk-toggleable__content pre {margin: 0.2em;color: black;border-radius: 0.25em;background-color: #f0f8ff;}#sk-container-id-21 input.sk-toggleable__control:checked~div.sk-toggleable__content {max-height: 200px;max-width: 100%;overflow: auto;}#sk-container-id-21 input.sk-toggleable__control:checked~label.sk-toggleable__label-arrow:before {content: \"▾\";}#sk-container-id-21 div.sk-estimator input.sk-toggleable__control:checked~label.sk-toggleable__label {background-color: #d4ebff;}#sk-container-id-21 div.sk-label input.sk-toggleable__control:checked~label.sk-toggleable__label {background-color: #d4ebff;}#sk-container-id-21 input.sk-hidden--visually {border: 0;clip: rect(1px 1px 1px 1px);clip: rect(1px, 1px, 1px, 1px);height: 1px;margin: -1px;overflow: hidden;padding: 0;position: absolute;width: 1px;}#sk-container-id-21 div.sk-estimator {font-family: monospace;background-color: #f0f8ff;border: 1px dotted black;border-radius: 0.25em;box-sizing: border-box;margin-bottom: 0.5em;}#sk-container-id-21 div.sk-estimator:hover {background-color: #d4ebff;}#sk-container-id-21 div.sk-parallel-item::after {content: \"\";width: 100%;border-bottom: 1px solid gray;flex-grow: 1;}#sk-container-id-21 div.sk-label:hover label.sk-toggleable__label {background-color: #d4ebff;}#sk-container-id-21 div.sk-serial::before {content: \"\";position: absolute;border-left: 1px solid gray;box-sizing: border-box;top: 0;bottom: 0;left: 50%;z-index: 0;}#sk-container-id-21 div.sk-serial {display: flex;flex-direction: column;align-items: center;background-color: white;padding-right: 0.2em;padding-left: 0.2em;position: relative;}#sk-container-id-21 div.sk-item {position: relative;z-index: 1;}#sk-container-id-21 div.sk-parallel {display: flex;align-items: stretch;justify-content: center;background-color: white;position: relative;}#sk-container-id-21 div.sk-item::before, #sk-container-id-21 div.sk-parallel-item::before {content: \"\";position: absolute;border-left: 1px solid gray;box-sizing: border-box;top: 0;bottom: 0;left: 50%;z-index: -1;}#sk-container-id-21 div.sk-parallel-item {display: flex;flex-direction: column;z-index: 1;position: relative;background-color: white;}#sk-container-id-21 div.sk-parallel-item:first-child::after {align-self: flex-end;width: 50%;}#sk-container-id-21 div.sk-parallel-item:last-child::after {align-self: flex-start;width: 50%;}#sk-container-id-21 div.sk-parallel-item:only-child::after {width: 0;}#sk-container-id-21 div.sk-dashed-wrapped {border: 1px dashed gray;margin: 0 0.4em 0.5em 0.4em;box-sizing: border-box;padding-bottom: 0.4em;background-color: white;}#sk-container-id-21 div.sk-label label {font-family: monospace;font-weight: bold;display: inline-block;line-height: 1.2em;}#sk-container-id-21 div.sk-label-container {text-align: center;}#sk-container-id-21 div.sk-container {/* jupyter's `normalize.less` sets `[hidden] { display: none; }` but bootstrap.min.css set `[hidden] { display: none !important; }` so we also need the `!important` here to be able to override the default hidden behavior on the sphinx rendered scikit-learn.org. See: https://github.com/scikit-learn/scikit-learn/issues/21755 */display: inline-block !important;position: relative;}#sk-container-id-21 div.sk-text-repr-fallback {display: none;}</style><div id=\"sk-container-id-21\" class=\"sk-top-container\"><div class=\"sk-text-repr-fallback\"><pre>Pipeline(steps=[(&#x27;glove_vect&#x27;,\n",
       "                 FunctionTransformer(func=&lt;function GloveVectorizer at 0x7ffa88cb2b80&gt;)),\n",
       "                (&#x27;clf&#x27;, SVC(kernel=&#x27;linear&#x27;, probability=True))])</pre><b>In a Jupyter environment, please rerun this cell to show the HTML representation or trust the notebook. <br />On GitHub, the HTML representation is unable to render, please try loading this page with nbviewer.org.</b></div><div class=\"sk-container\" hidden><div class=\"sk-item sk-dashed-wrapped\"><div class=\"sk-label-container\"><div class=\"sk-label sk-toggleable\"><input class=\"sk-toggleable__control sk-hidden--visually\" id=\"sk-estimator-id-63\" type=\"checkbox\" ><label for=\"sk-estimator-id-63\" class=\"sk-toggleable__label sk-toggleable__label-arrow\">Pipeline</label><div class=\"sk-toggleable__content\"><pre>Pipeline(steps=[(&#x27;glove_vect&#x27;,\n",
       "                 FunctionTransformer(func=&lt;function GloveVectorizer at 0x7ffa88cb2b80&gt;)),\n",
       "                (&#x27;clf&#x27;, SVC(kernel=&#x27;linear&#x27;, probability=True))])</pre></div></div></div><div class=\"sk-serial\"><div class=\"sk-item\"><div class=\"sk-estimator sk-toggleable\"><input class=\"sk-toggleable__control sk-hidden--visually\" id=\"sk-estimator-id-64\" type=\"checkbox\" ><label for=\"sk-estimator-id-64\" class=\"sk-toggleable__label sk-toggleable__label-arrow\">FunctionTransformer</label><div class=\"sk-toggleable__content\"><pre>FunctionTransformer(func=&lt;function GloveVectorizer at 0x7ffa88cb2b80&gt;)</pre></div></div></div><div class=\"sk-item\"><div class=\"sk-estimator sk-toggleable\"><input class=\"sk-toggleable__control sk-hidden--visually\" id=\"sk-estimator-id-65\" type=\"checkbox\" ><label for=\"sk-estimator-id-65\" class=\"sk-toggleable__label sk-toggleable__label-arrow\">SVC</label><div class=\"sk-toggleable__content\"><pre>SVC(kernel=&#x27;linear&#x27;, probability=True)</pre></div></div></div></div></div></div></div>"
      ],
      "text/plain": [
       "Pipeline(steps=[('glove_vect',\n",
       "                 FunctionTransformer(func=<function GloveVectorizer at 0x7ffa88cb2b80>)),\n",
       "                ('clf', SVC(kernel='linear', probability=True))])"
      ]
     },
     "execution_count": 273,
     "metadata": {},
     "output_type": "execute_result"
    }
   ],
   "source": [
    "pipeline.fit(X_train_sample,y_train_sample)"
   ]
  },
  {
   "cell_type": "code",
   "execution_count": 274,
   "id": "5c060df4",
   "metadata": {},
   "outputs": [
    {
     "data": {
      "text/plain": [
       "0.362"
      ]
     },
     "execution_count": 274,
     "metadata": {},
     "output_type": "execute_result"
    }
   ],
   "source": [
    "pipeline.score(X_train_sample,y_train_sample)"
   ]
  },
  {
   "cell_type": "code",
   "execution_count": 275,
   "id": "53bdb815",
   "metadata": {},
   "outputs": [
    {
     "data": {
      "text/plain": [
       "array([[0.12481099, 0.17754994, 0.32707494, 0.24531349, 0.12525065],\n",
       "       [0.1178912 , 0.15422346, 0.34736599, 0.25853471, 0.12198465],\n",
       "       [0.10280593, 0.10372673, 0.36916321, 0.29718421, 0.12711993],\n",
       "       ...,\n",
       "       [0.0885924 , 0.10973989, 0.36596483, 0.28451211, 0.15119076],\n",
       "       [0.12174019, 0.15426538, 0.35806682, 0.27087265, 0.09505496],\n",
       "       [0.13070995, 0.13297865, 0.32790209, 0.28457089, 0.12383842]])"
      ]
     },
     "execution_count": 275,
     "metadata": {},
     "output_type": "execute_result"
    }
   ],
   "source": [
    "pipeline.predict_proba(X_test)"
   ]
  },
  {
   "cell_type": "code",
   "execution_count": null,
   "id": "3795c6d1",
   "metadata": {},
   "outputs": [],
   "source": []
  },
  {
   "cell_type": "code",
   "execution_count": null,
   "id": "b4af8076",
   "metadata": {},
   "outputs": [],
   "source": []
  },
  {
   "cell_type": "code",
   "execution_count": null,
   "id": "d5f7ab57",
   "metadata": {},
   "outputs": [],
   "source": []
  },
  {
   "cell_type": "code",
   "execution_count": null,
   "id": "ebe8914d",
   "metadata": {},
   "outputs": [],
   "source": []
  }
 ],
 "metadata": {
  "kernelspec": {
   "display_name": "Python 3 (ipykernel)",
   "language": "python",
   "name": "python3"
  },
  "language_info": {
   "codemirror_mode": {
    "name": "ipython",
    "version": 3
   },
   "file_extension": ".py",
   "mimetype": "text/x-python",
   "name": "python",
   "nbconvert_exporter": "python",
   "pygments_lexer": "ipython3",
   "version": "3.8.10"
  }
 },
 "nbformat": 4,
 "nbformat_minor": 5
}
