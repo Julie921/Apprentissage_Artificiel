{
 "cells": [
  {
   "cell_type": "code",
   "execution_count": 1,
   "metadata": {},
   "outputs": [],
   "source": [
    "from IPython.display import display"
   ]
  },
  {
   "cell_type": "code",
   "execution_count": 14,
   "metadata": {},
   "outputs": [],
   "source": [
    "from lxml import etree"
   ]
  },
  {
   "cell_type": "code",
   "execution_count": 15,
   "metadata": {},
   "outputs": [],
   "source": [
    "def parse_tree(file):\n",
    "    tree = etree.parse(file)\n",
    "    root = tree.getroot()\n",
    "    return tree, root"
   ]
  },
  {
   "cell_type": "code",
   "execution_count": 27,
   "metadata": {},
   "outputs": [],
   "source": [
    "tree,test_train=parse_tree(\"deft09_parlement_appr_fr.xml\")"
   ]
  },
  {
   "cell_type": "code",
   "execution_count": 5,
   "metadata": {},
   "outputs": [],
   "source": [
    "X_train = []\n",
    "y_train = []"
   ]
  },
  {
   "cell_type": "code",
   "execution_count": 32,
   "metadata": {},
   "outputs": [],
   "source": [
    "for child in test_train:\n",
    "    if child.tag==\"doc\":\n",
    "        for c in child:\n",
    "            if c.tag==\"EVALUATION\":\n",
    "                for eval_parti in c:\n",
    "                    eval_parti.clear()\n",
    "                    eval_parti.set(\"nombre\",\"5\")\n",
    "                    parti_=etree.Element(\"PARTI\")\n",
    "                    etree.SubElement(eval_parti,\"PARTI\")\n",
    "                    etree.SubElement(eval_parti,\"PARTI\")\n",
    "                    etree.SubElement(eval_parti,\"PARTI\")\n",
    "                    etree.SubElement(eval_parti,\"PARTI\")\n",
    "                    etree.SubElement(eval_parti,\"PARTI\")\n",
    "                    for parti in eval_parti:\n",
    "                        parti.set(\"valeur\",\"En Marche\")\n",
    "                        parti.set(\"confiance\",\"0\")\n"
   ]
  },
  {
   "cell_type": "code",
   "execution_count": 33,
   "metadata": {},
   "outputs": [],
   "source": [
    "tree.write(\"truc.xml\")"
   ]
  },
  {
   "cell_type": "code",
   "execution_count": 8,
   "metadata": {},
   "outputs": [
    {
     "name": "stdout",
     "output_type": "stream",
     "text": [
      "19370\n",
      "19370\n"
     ]
    }
   ],
   "source": [
    "print(len(X_train))\n",
    "print(len(y_train))"
   ]
  },
  {
   "cell_type": "code",
   "execution_count": null,
   "metadata": {},
   "outputs": [],
   "source": []
  }
 ],
 "metadata": {
  "kernelspec": {
   "display_name": ".venvDEFT",
   "language": "python",
   "name": "python3"
  },
  "language_info": {
   "codemirror_mode": {
    "name": "ipython",
    "version": 3
   },
   "file_extension": ".py",
   "mimetype": "text/x-python",
   "name": "python",
   "nbconvert_exporter": "python",
   "pygments_lexer": "ipython3",
   "version": "3.10.6"
  },
  "orig_nbformat": 4,
  "vscode": {
   "interpreter": {
    "hash": "65a3a9254c208eacdbe67b4b11fbbc3696d957ef5294525b5c63c46bcec82d7a"
   }
  }
 },
 "nbformat": 4,
 "nbformat_minor": 2
}
