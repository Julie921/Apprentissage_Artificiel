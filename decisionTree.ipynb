{
 "cells": [
  {
   "attachments": {},
   "cell_type": "markdown",
   "metadata": {},
   "source": [
    "# Arbres de décision"
   ]
  },
  {
   "attachments": {},
   "cell_type": "markdown",
   "metadata": {},
   "source": [
    "# Importation des modules"
   ]
  },
  {
   "cell_type": "code",
   "execution_count": 124,
   "metadata": {},
   "outputs": [],
   "source": [
    "from typing import List, Dict\n",
    "\n",
    "# pour la récupération des données depuis les fichiers XML\n",
    "from lxml import etree\n",
    "from preTraitements.xml import get_X_Y_from_root\n",
    "from preTraitements.xml import get_tree_root_from_file\n",
    "\n",
    "# pour la vectorisation et la classification\n",
    "from sklearn import tree\n",
    "from sklearn.feature_extraction.text import CountVectorizer\n",
    "from sklearn.feature_extraction import DictVectorizer\n",
    "\n",
    "# validation\n",
    "from sklearn.model_selection import cross_val_score\n",
    "\n",
    "import spacy\n",
    "from collections import Counter\n",
    "\n",
    "\n",
    "nlp = spacy.load(\"fr_core_news_md\")"
   ]
  },
  {
   "attachments": {},
   "cell_type": "markdown",
   "metadata": {},
   "source": [
    "# Pré-traitement"
   ]
  },
  {
   "attachments": {},
   "cell_type": "markdown",
   "metadata": {},
   "source": [
    "## Chargement des données depuis les XML"
   ]
  },
  {
   "cell_type": "code",
   "execution_count": 98,
   "metadata": {},
   "outputs": [],
   "source": [
    "tree_train, root_train = get_tree_root_from_file(\"./corpus/train_deft09_parlement_appr.xml/deft09_parlement_appr_fr.xml\")\n",
    "X_train, y_train = get_X_Y_from_root(root_train)\n",
    "\n",
    "tree_test, root_test = get_tree_root_from_file(\"./corpus/deft09_parlement_test.xml/deft09_parlement_test_fr.xml\")\n",
    "X_test, y_test = get_X_Y_from_root(root_test)"
   ]
  },
  {
   "attachments": {},
   "cell_type": "markdown",
   "metadata": {},
   "source": [
    "## Mise en forme des données"
   ]
  },
  {
   "cell_type": "code",
   "execution_count": 108,
   "metadata": {},
   "outputs": [],
   "source": [
    "def count_tokens(text: List[List[str]], nlp) -> List[Dict[str, int]]:\n",
    "    \"\"\"Fonction qui, à partir d'une liste de listes de string, renvoie une liste de liste de dictionnaires\n",
    "    Chaque dictionnaire correspond au nombre d'occurrences de chaque token pour chaque sous-liste de strings.\n",
    "    La tokenization ne prend pas en compte les stop words, la poncutation et les espaces.\n",
    "\n",
    "    Args:\n",
    "        text (List[List[str]]): une liste de listes de string\n",
    "        nlp (spacy.lang.fr.French): un modèle de spacy\n",
    "\n",
    "    Returns:\n",
    "        List[Dict[str, int]]: une liste de liste de dictionnaires tels que `dico[token]=nb_tokens`\n",
    "    \"\"\"\n",
    "    return [dict(Counter(token.text for token in nlp(enonce) if not (token.is_stop or token.is_punct or token.is_space))) for enonce in text]"
   ]
  },
  {
   "cell_type": "code",
   "execution_count": 109,
   "metadata": {},
   "outputs": [],
   "source": [
    "counters = count_tokens(X_train, nlp) # on tokenize et on compte le nombre d'occurrences de chaque token pour chaque énoncé\n",
    "\n",
    "# transformation des dictionnaires en vecteurs\n",
    "vec = DictVectorizer() \n",
    "X_train_vec = vec.fit_transform(counters)"
   ]
  },
  {
   "attachments": {},
   "cell_type": "markdown",
   "metadata": {},
   "source": [
    "# Classification"
   ]
  },
  {
   "cell_type": "code",
   "execution_count": 115,
   "metadata": {},
   "outputs": [],
   "source": [
    "clf = tree.DecisionTreeClassifier() # création du classifieur\n",
    "clf = clf.fit(X_train_vec, y_train) # entraînement\n",
    "\n",
    "feature_names = vec.feature_names_ # récupération du nom des features"
   ]
  },
  {
   "cell_type": "code",
   "execution_count": 120,
   "metadata": {},
   "outputs": [
    {
     "name": "stdout",
     "output_type": "stream",
     "text": [
      "[0.33402168 0.33040785 0.33144037 0.32627775 0.35776975 0.33298916\n",
      " 0.33557047 0.35105834 0.34641198 0.32885906]\n"
     ]
    }
   ],
   "source": [
    "print(cross_val_score(clf, X_train_vec, y_train,cv=10)) # cross-validation"
   ]
  },
  {
   "cell_type": "code",
   "execution_count": 121,
   "metadata": {},
   "outputs": [
    {
     "name": "stdout",
     "output_type": "stream",
     "text": [
      "Monsieur\t0.009952128232256482\n",
      "libéraux\t0.008066617359011105\n",
      "Madame\t0.006286814415960344\n",
      "été\t0.005710144638229512\n",
      "Commission\t0.005230304188553939\n",
      "Parlement\t0.004904703890456348\n",
      "question\t0.004447379243154804\n",
      "Mesdames\t0.004378333990652465\n",
      "Union\t0.0041933222158018185\n",
      "rapport\t0.004087112278552198\n",
      "voudrais\t0.004032932008524491\n",
      "européenne\t0.0039772699924455306\n",
      "bien\t0.003890237820298784\n",
      "faut\t0.003795906626577938\n",
      "M.\t0.0036391699590442445\n",
      "devons\t0.0036121148420693054\n",
      "politique\t0.0035827796170060803\n",
      "retraités\t0.0035797739839431414\n",
      "pays\t0.003522639710684918\n",
      "Europe\t0.0034875844045781797\n",
      "non\t0.0034557021414133673\n",
      "groupe\t0.0034006493720006737\n",
      "européen\t0.003129413153684946\n",
      "travailleurs\t0.003090027478159047\n",
      "droit\t0.0030762697298877244\n",
      "droits\t0.0029829361436590086\n",
      "problème\t0.0029712189149613214\n",
      "faire\t0.002936074190464172\n",
      "UE\t0.0028197263580555\n",
      "fois\t0.0028043707502507192\n",
      "membres\t0.0027892191078667822\n",
      "cas\t0.002763690280647359\n",
      "développement\t0.0027441104811562365\n",
      "États-Unis\t0.0027244114207357643\n",
      "Conseil\t0.002662111233919055\n",
      "compte\t0.002650414784665315\n",
      "exemple\t0.0025773633275334475\n",
      "débat\t0.002508749202262441\n",
      "États\t0.002494571168092884\n",
      "communiste\t0.0024368249950344595\n",
      "conservateurs\t0.0024341775166143837\n",
      "sein\t0.0024015351137811366\n",
      "politiques\t0.002379396080832685\n",
      "commission\t0.0022109489681994957\n",
      "-il\t0.002204207184360545\n",
      "entreprises\t0.002194587834571504\n",
      "Commissaire\t0.0021621052471310553\n",
      "agit\t0.0021376674100954274\n",
      "salariés\t0.0021327913797566786\n",
      "partie\t0.002132033760453578\n",
      "demande\t0.002103418130136894\n",
      "cadre\t0.00199887893800007\n",
      "secteur\t0.0019726313364013875\n",
      "crois\t0.0019719496743282852\n",
      "travail\t0.0019536450107938866\n",
      "marché\t0.0019469934085295168\n",
      "vote\t0.0019340768047583204\n",
      "matière\t0.0019289699539346671\n",
      "faveur\t0.0019208622098591832\n",
      "gouvernement\t0.0019091467064430252\n",
      "intérêts\t0.0019043486305498816\n",
      "européens\t0.0018942788771278516\n",
      "niveau\t0.0018909112388597862\n",
      "voulons\t0.001881320932309824\n",
      "propositions\t0.001871315259080675\n",
      "manière\t0.001868886191665088\n",
      "jour\t0.0018480593860330083\n",
      "sujet\t0.0018329192801233808\n",
      "députés\t0.0018284543603627095\n",
      "résolution\t0.0018248682618511667\n",
      "grande\t0.0018037189797437641\n",
      "contre\t0.0017949638877834784\n",
      "concerne\t0.001789800494127539\n",
      "position\t0.001776490857559309\n",
      "trop\t0.0017594388672003557\n",
      "point\t0.0017491779756633474\n",
      "place\t0.0017322073731871376\n",
      "environnement\t0.0017319320678111513\n",
      "Assemblée\t0.0017220034924783452\n",
      "Mme\t0.0017182016772450516\n",
      "toutefois\t0.001674261326596552\n",
      "problèmes\t0.0016712793203329636\n",
      "important\t0.001650458994662745\n",
      "part\t0.0016388866193034464\n",
      "voté\t0.0016311939222569648\n",
      "beaucoup\t0.0016113697626210543\n",
      "mettre\t0.0016105762221091783\n",
      "programme\t0.0015830711310748375\n",
      "situation\t0.001571846326119274\n",
      "collègues\t0.0015505350384163517\n",
      "intérieur\t0.0015459589183512105\n",
      "peuples\t0.001543235496807289\n",
      "conditions\t0.001541156893036902\n",
      "savoir\t0.0015349206835177662\n",
      "communication\t0.001530000886845512\n",
      "texte\t0.00152540238434018\n",
      "temps\t0.0015235137323937771\n",
      "mesures\t0.0015229451876771142\n",
      "félicite\t0.0015190666346455836\n",
      "profits\t0.0015166511827127518\n"
     ]
    }
   ],
   "source": [
    "feature_importances = clf.feature_importances_ # features les plus décisifs pour le classifieur\n",
    "feature_importances_sorted = sorted(zip(feature_importances, feature_names), reverse=True) # on le trie par importance\n",
    "\n",
    "for score, word in feature_importances_sorted[:100]: # on affiche le nom des features avec leur score pour les 100 premiers\n",
    "    print(f\"{word}\\t{score}\")"
   ]
  },
  {
   "attachments": {},
   "cell_type": "markdown",
   "metadata": {},
   "source": [
    "## Pour plotter l'arbre de décision"
   ]
  },
  {
   "cell_type": "code",
   "execution_count": null,
   "metadata": {},
   "outputs": [],
   "source": [
    "import matplotlib.pyplot as plt\n",
    "\n",
    "plt.figure(figsize=(15,7))\n",
    "tree.plot_tree(clf, feature_names=feature_names)\n",
    "\n",
    "# sauvegarde du plot dans un SVG\n",
    "plt.savefig('decision_tree.svg')\n"
   ]
  }
 ],
 "metadata": {
  "kernelspec": {
   "display_name": ".venvML",
   "language": "python",
   "name": "python3"
  },
  "language_info": {
   "codemirror_mode": {
    "name": "ipython",
    "version": 3
   },
   "file_extension": ".py",
   "mimetype": "text/x-python",
   "name": "python",
   "nbconvert_exporter": "python",
   "pygments_lexer": "ipython3",
   "version": "3.10.9"
  },
  "orig_nbformat": 4,
  "vscode": {
   "interpreter": {
    "hash": "7772623b82ed846feb46f5a96aa7fb44349f73638c006ae7e8cad2b5cbf66b21"
   }
  }
 },
 "nbformat": 4,
 "nbformat_minor": 2
}
